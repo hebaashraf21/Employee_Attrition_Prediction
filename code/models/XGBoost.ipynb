{
 "cells": [
  {
   "cell_type": "code",
   "execution_count": 9,
   "metadata": {},
   "outputs": [],
   "source": [
    "#!pip install xgboost\n",
    "import pandas as pd\n",
    "import os\n",
    "from sklearn.model_selection import KFold\n",
    "import xgboost as xgb\n",
    "from sklearn.metrics import accuracy_score, f1_score, precision_score, recall_score\n",
    "from sklearn.model_selection import cross_validate\n",
    "import time\n"
   ]
  },
  {
   "cell_type": "markdown",
   "metadata": {},
   "source": [
    "**Loading The Data**"
   ]
  },
  {
   "cell_type": "code",
   "execution_count": 2,
   "metadata": {},
   "outputs": [],
   "source": [
    "current_dir = os.getcwd() \n",
    "relative_path = os.path.join('..', '..','data', 'train.csv')\n",
    "train_data = pd.read_csv(os.path.join(current_dir, relative_path))"
   ]
  },
  {
   "cell_type": "code",
   "execution_count": 3,
   "metadata": {},
   "outputs": [],
   "source": [
    "relative_path = os.path.join('..', '..','data', 'test.csv')\n",
    "test_data = pd.read_csv(os.path.join(current_dir, relative_path))"
   ]
  },
  {
   "cell_type": "code",
   "execution_count": 4,
   "metadata": {},
   "outputs": [],
   "source": [
    "x_train = train_data.drop([\"Attrition\"], axis = 1)\n",
    "y_train = train_data[\"Attrition\"]\n",
    "\n",
    "x_test = test_data.drop([\"Attrition\"], axis = 1)\n",
    "y_test = test_data[\"Attrition\"]\n",
    "\n",
    "k_fold = KFold(n_splits=10, shuffle=True, random_state=42)"
   ]
  },
  {
   "cell_type": "code",
   "execution_count": 6,
   "metadata": {},
   "outputs": [],
   "source": [
    "# Define XGBoost parameters\n",
    "params = {\n",
    "    'objective': 'binary:logistic',  # Binary classification\n",
    "    'eval_metric': 'logloss',         # Evaluation metric\n",
    "    'eta': 0.1,                        # Learning rate\n",
    "    'max_depth': 3,                    # Maximum depth of each tree\n",
    "    'min_child_weight': 1,             # Minimum sum of instance weight needed in a child\n",
    "    'subsample': 0.8,                  # Subsample ratio of the training instances\n",
    "    'colsample_bytree': 0.8,           # Subsample ratio of columns when constructing each tree\n",
    "    'alpha': 0.01,                     # L1 regularization term on weights\n",
    "    'lambda': 0.01,                    # L2 regularization term on weights\n",
    "    'seed': 42                         # Random seed for reproducibility\n",
    "}"
   ]
  },
  {
   "cell_type": "code",
   "execution_count": 15,
   "metadata": {},
   "outputs": [
    {
     "name": "stdout",
     "output_type": "stream",
     "text": [
      "Average Accuracy: 0.8571264367816092\n",
      "Average F1 Score: 0.1841269841269841\n",
      "Average Precision: 0.22333333333333333\n",
      "Average Recall: 0.16499999999999998\n",
      "-----------------------------------------------------\n"
     ]
    }
   ],
   "source": [
    "# Initialize CatBoost classifier\n",
    "xgb_model = xgb.XGBClassifier(**params)\n",
    "\n",
    "# Train the model using KFold cross-validation\n",
    "accuracies = []\n",
    "precisions = []\n",
    "recalls = []\n",
    "f1_scores = []\n",
    "training_times = []\n",
    "\n",
    "for train_index, val_index in k_fold.split(x_train):\n",
    "    X_train_fold, X_val_fold = x_train.iloc[train_index], x_train.iloc[val_index]\n",
    "    y_train_fold, y_val_fold = y_train.iloc[train_index], y_train.iloc[val_index]\n",
    "    \n",
    "    # Fit the model\n",
    "    xgb_model.fit(X_train_fold, y_train_fold)\n",
    "    \n",
    "    # Predict on validation set\n",
    "    y_pred = xgb_model.predict(X_val_fold)\n",
    "    \n",
    "    # Calculate metrics\n",
    "    accuracy = accuracy_score(y_val_fold, y_pred)\n",
    "    precision = precision_score(y_val_fold, y_pred, zero_division=0)  # Set zero_division parameter here\n",
    "    recall = recall_score(y_val_fold, y_pred, zero_division=0)  # Set zero_division parameter here\n",
    "    f1 = f1_score(y_val_fold, y_pred)\n",
    "    \n",
    "    accuracies.append(accuracy)\n",
    "    precisions.append(precision)\n",
    "    recalls.append(recall)\n",
    "    f1_scores.append(f1)\n",
    "\n",
    "\n",
    "# Calculate and print average metrics\n",
    "avg_accuracy = sum(accuracies) / len(accuracies)\n",
    "avg_precision = sum(precisions) / len(precisions)\n",
    "avg_recall = sum(recalls) / len(recalls)\n",
    "avg_f1_score = sum(f1_scores) / len(f1_scores)\n",
    "\n",
    "# Calculate average training time\n",
    "print(\"Average Accuracy:\", avg_accuracy)\n",
    "print(\"Average F1 Score:\", avg_f1_score)\n",
    "print(\"Average Precision:\", avg_precision)\n",
    "print(\"Average Recall:\", avg_recall)\n",
    "print('-----------------------------------------------------')\n"
   ]
  }
 ],
 "metadata": {
  "kernelspec": {
   "display_name": "Python 3",
   "language": "python",
   "name": "python3"
  },
  "language_info": {
   "codemirror_mode": {
    "name": "ipython",
    "version": 3
   },
   "file_extension": ".py",
   "mimetype": "text/x-python",
   "name": "python",
   "nbconvert_exporter": "python",
   "pygments_lexer": "ipython3",
   "version": "3.8.10"
  }
 },
 "nbformat": 4,
 "nbformat_minor": 2
}
