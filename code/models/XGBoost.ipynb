{
 "cells": [
  {
   "cell_type": "code",
   "execution_count": 9,
   "metadata": {},
   "outputs": [],
   "source": [
    "#!pip install xgboost\n",
    "import pandas as pd\n",
    "import os\n",
    "from sklearn.model_selection import KFold\n",
    "import xgboost as xgb\n",
    "from sklearn.metrics import accuracy_score, f1_score, precision_score, recall_score\n",
    "from sklearn.model_selection import cross_validate\n",
    "import time\n"
   ]
  },
  {
   "cell_type": "markdown",
   "metadata": {},
   "source": [
    "**Loading The Data**"
   ]
  },
  {
   "cell_type": "code",
   "execution_count": 2,
   "metadata": {},
   "outputs": [],
   "source": [
    "current_dir = os.getcwd() \n",
    "relative_path = os.path.join('..', '..','data', 'train.csv')\n",
    "train_data = pd.read_csv(os.path.join(current_dir, relative_path))"
   ]
  },
  {
   "cell_type": "code",
   "execution_count": 3,
   "metadata": {},
   "outputs": [],
   "source": [
    "relative_path = os.path.join('..', '..','data', 'test.csv')\n",
    "test_data = pd.read_csv(os.path.join(current_dir, relative_path))"
   ]
  },
  {
   "cell_type": "code",
   "execution_count": 4,
   "metadata": {},
   "outputs": [],
   "source": [
    "x_train = train_data.drop([\"Attrition\"], axis = 1)\n",
    "y_train = train_data[\"Attrition\"]\n",
    "\n",
    "x_test = test_data.drop([\"Attrition\"], axis = 1)\n",
    "y_test = test_data[\"Attrition\"]\n",
    "\n",
    "k_fold = KFold(n_splits=10, shuffle=True, random_state=42)"
   ]
  },
  {
   "cell_type": "code",
   "execution_count": 17,
   "metadata": {},
   "outputs": [],
   "source": [
    "# Calculate the ratio of negative samples to positive samples\n",
    "ratio = len(y_train[y_train == 0]) / len(y_train[y_train == 1])"
   ]
  },
  {
   "cell_type": "code",
   "execution_count": 18,
   "metadata": {},
   "outputs": [],
   "source": [
    "params = {\n",
    "    'eta': 0.3,                   # Learning rate (step size shrinkage)\n",
    "    'max_depth': 6,               # Maximum depth of a tree\n",
    "    'gamma': 0.1,                    # Minimum loss reduction required to make a further partition on a leaf node\n",
    "    'min_child_weight': 1,           # Minimum sum of instance weight (hessian) needed in a child'subsample': 1.0,             # Subsample ratio of the training instances\n",
    "    'num_boost_round': 100,       # Number of boosting rounds (trees) to run\n",
    "    'colsample_bytree': 1.0,      # Subsample ratio of columns when constructing each tree\n",
    "    'lambda': 1,                  # L2 regularization term on weights\n",
    "    'alpha': 0,                   # L1 regularization term on weights\n",
    "    \n",
    "    'eval_metric': 'error',           # Evaluation metric used during training\n",
    "    'booster': 'gbtree',          # Type of boosting model\n",
    "\n",
    "    'scale_pos_weight': ratio,        # Ratio of negative samples to positive samples\n",
    "    'objective': 'binary:logistic',  # Learning task and corresponding objective function\n",
    "    'verbosity': 0,               # Verbosity of output messages\n",
    "}\n"
   ]
  },
  {
   "cell_type": "code",
   "execution_count": 19,
   "metadata": {},
   "outputs": [
    {
     "name": "stdout",
     "output_type": "stream",
     "text": [
      "Average Accuracy: 0.8331034482758621\n",
      "Average F1 Score: 0.19025252525252526\n",
      "Average Precision: 0.19357142857142856\n",
      "Average Recall: 0.19833333333333333\n",
      "-----------------------------------------------------\n"
     ]
    }
   ],
   "source": [
    "# Initialize CatBoost classifier\n",
    "xgb_model = xgb.XGBClassifier(**params)\n",
    "\n",
    "# Train the model using KFold cross-validation\n",
    "accuracies = []\n",
    "precisions = []\n",
    "recalls = []\n",
    "f1_scores = []\n",
    "training_times = []\n",
    "\n",
    "for train_index, val_index in k_fold.split(x_train):\n",
    "    X_train_fold, X_val_fold = x_train.iloc[train_index], x_train.iloc[val_index]\n",
    "    y_train_fold, y_val_fold = y_train.iloc[train_index], y_train.iloc[val_index]\n",
    "    \n",
    "    # Fit the model\n",
    "    xgb_model.fit(X_train_fold, y_train_fold)\n",
    "    \n",
    "    # Predict on validation set\n",
    "    y_pred = xgb_model.predict(X_val_fold)\n",
    "    \n",
    "    # Calculate metrics\n",
    "    accuracy = accuracy_score(y_val_fold, y_pred)\n",
    "    precision = precision_score(y_val_fold, y_pred, zero_division=0)  # Set zero_division parameter here\n",
    "    recall = recall_score(y_val_fold, y_pred, zero_division=0)  # Set zero_division parameter here\n",
    "    f1 = f1_score(y_val_fold, y_pred)\n",
    "    \n",
    "    accuracies.append(accuracy)\n",
    "    precisions.append(precision)\n",
    "    recalls.append(recall)\n",
    "    f1_scores.append(f1)\n",
    "\n",
    "\n",
    "# Calculate and print average metrics\n",
    "avg_accuracy = sum(accuracies) / len(accuracies)\n",
    "avg_precision = sum(precisions) / len(precisions)\n",
    "avg_recall = sum(recalls) / len(recalls)\n",
    "avg_f1_score = sum(f1_scores) / len(f1_scores)\n",
    "\n",
    "# Calculate average training time\n",
    "print(\"Average Accuracy:\", avg_accuracy)\n",
    "print(\"Average F1 Score:\", avg_f1_score)\n",
    "print(\"Average Precision:\", avg_precision)\n",
    "print(\"Average Recall:\", avg_recall)\n",
    "print('-----------------------------------------------------')\n"
   ]
  }
 ],
 "metadata": {
  "kernelspec": {
   "display_name": "Python 3",
   "language": "python",
   "name": "python3"
  },
  "language_info": {
   "codemirror_mode": {
    "name": "ipython",
    "version": 3
   },
   "file_extension": ".py",
   "mimetype": "text/x-python",
   "name": "python",
   "nbconvert_exporter": "python",
   "pygments_lexer": "ipython3",
   "version": "3.8.10"
  }
 },
 "nbformat": 4,
 "nbformat_minor": 2
}
