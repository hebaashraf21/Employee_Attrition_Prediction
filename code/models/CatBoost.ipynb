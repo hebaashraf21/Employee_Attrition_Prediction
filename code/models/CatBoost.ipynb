{
 "cells": [
  {
   "cell_type": "code",
   "execution_count": 73,
   "metadata": {},
   "outputs": [],
   "source": [
    "import pandas as pd\n",
    "import os\n",
    "from sklearn.model_selection import KFold\n",
    "from catboost import CatBoostClassifier\n",
    "from sklearn.metrics import accuracy_score, f1_score, precision_score, recall_score\n",
    "import time\n"
   ]
  },
  {
   "cell_type": "markdown",
   "metadata": {},
   "source": [
    "**Loading The Data**"
   ]
  },
  {
   "cell_type": "code",
   "execution_count": 11,
   "metadata": {},
   "outputs": [],
   "source": [
    "current_dir = os.getcwd() \n",
    "relative_path = os.path.join('..', '..','data', 'train.csv')\n",
    "train_data = pd.read_csv(os.path.join(current_dir, relative_path))"
   ]
  },
  {
   "cell_type": "code",
   "execution_count": 12,
   "metadata": {},
   "outputs": [],
   "source": [
    "relative_path = os.path.join('..', '..','data', 'test.csv')\n",
    "test_data = pd.read_csv(os.path.join(current_dir, relative_path))"
   ]
  },
  {
   "cell_type": "code",
   "execution_count": 13,
   "metadata": {},
   "outputs": [],
   "source": [
    "x_train = train_data.drop([\"Attrition\"], axis = 1)\n",
    "y_train = train_data[\"Attrition\"]\n",
    "\n",
    "x_test = test_data.drop([\"Attrition\"], axis = 1)\n",
    "y_test = test_data[\"Attrition\"]\n",
    "\n",
    "k_fold = KFold(n_splits=10, shuffle=True, random_state=42)"
   ]
  },
  {
   "cell_type": "markdown",
   "metadata": {},
   "source": [
    "**Trying Different Class Weights**"
   ]
  },
  {
   "cell_type": "markdown",
   "metadata": {},
   "source": [
    "for class weights [1,1]"
   ]
  },
  {
   "cell_type": "code",
   "execution_count": 56,
   "metadata": {},
   "outputs": [],
   "source": [
    "# Define CatBoost parameters\n",
    "params = {\n",
    "    'learning_rate': 0.1,               # Learning Rate\n",
    "    'n_estimators': 100,                # Number of Trees\n",
    "    'max_depth': 6,                     # Depth of Trees\n",
    "    'l2_leaf_reg': 3,                   # Regularization Parameter: L2 regularization\n",
    "    'min_child_samples': 5,             # Regularization Parameter: Minimum number of samples required to split a node\n",
    "    'subsample': 0.8,                   # Subsampling\n",
    "    'loss_function': 'Logloss',         # Objective Function\n",
    "    'eval_metric': 'Accuracy',                # Evaluation Metric\n",
    "    'border_count': 128,                 # Gradient Estimation\n",
    "    'class_weights': [1, 1]  # Adjust class weights because of unbalanced classes\n",
    "}"
   ]
  },
  {
   "cell_type": "code",
   "execution_count": 57,
   "metadata": {},
   "outputs": [
    {
     "name": "stdout",
     "output_type": "stream",
     "text": [
      "Average Accuracy: 0.8704597701149426\n",
      "Average F1 Score: 0.04\n",
      "Average Precision: 0.1\n",
      "Average Recall: 0.025\n"
     ]
    }
   ],
   "source": [
    "# Initialize CatBoost classifier\n",
    "catboost_model = CatBoostClassifier(**params)\n",
    "\n",
    "# Train the model using KFold cross-validation\n",
    "accuracies = []\n",
    "precisions = []\n",
    "recalls = []\n",
    "f1_scores = []\n",
    "\n",
    "for train_index, val_index in k_fold.split(x_train):\n",
    "    X_train_fold, X_val_fold = x_train.iloc[train_index], x_train.iloc[val_index]\n",
    "    y_train_fold, y_val_fold = y_train.iloc[train_index], y_train.iloc[val_index]\n",
    "    \n",
    "    # Fit the model\n",
    "    catboost_model.fit(X_train_fold, y_train_fold, eval_set=(X_val_fold, y_val_fold), verbose=False)\n",
    "    \n",
    "    # Predict on validation set\n",
    "    y_pred = catboost_model.predict(X_val_fold)\n",
    "    \n",
    "    # Calculate metrics\n",
    "    accuracy = accuracy_score(y_val_fold, y_pred)\n",
    "    precision = precision_score(y_val_fold, y_pred, zero_division=0)\n",
    "    recall = recall_score(y_val_fold, y_pred, zero_division=0)\n",
    "    f1 = f1_score(y_val_fold, y_pred, zero_division=0)\n",
    "    \n",
    "    accuracies.append(accuracy)\n",
    "    precisions.append(precision)\n",
    "    recalls.append(recall)\n",
    "    f1_scores.append(f1)\n",
    "\n",
    "# Calculate and print average metrics\n",
    "avg_accuracy = sum(accuracies) / len(accuracies)\n",
    "avg_precision = sum(precisions) / len(precisions)\n",
    "avg_recall = sum(recalls) / len(recalls)\n",
    "avg_f1_score = sum(f1_scores) / len(f1_scores)\n",
    "\n",
    "print(\"Average Accuracy:\", avg_accuracy)\n",
    "print(\"Average F1 Score:\", avg_f1_score)\n",
    "print(\"Average Precision:\", avg_precision)\n",
    "print(\"Average Recall:\", avg_recall)"
   ]
  },
  {
   "cell_type": "markdown",
   "metadata": {},
   "source": [
    "for class weights [1,5]"
   ]
  },
  {
   "cell_type": "code",
   "execution_count": 46,
   "metadata": {},
   "outputs": [],
   "source": [
    "# Define CatBoost parameters\n",
    "params = {\n",
    "    'learning_rate': 0.1,               # Learning Rate\n",
    "    'n_estimators': 100,                # Number of Trees\n",
    "    'max_depth': 6,                     # Depth of Trees\n",
    "    'l2_leaf_reg': 3,                   # Regularization Parameter: L2 regularization\n",
    "    'min_child_samples': 5,             # Regularization Parameter: Minimum number of samples required to split a node\n",
    "    'subsample': 0.8,                   # Subsampling\n",
    "    'loss_function': 'Logloss',         # Objective Function\n",
    "    'eval_metric': 'Accuracy',                # Evaluation Metric\n",
    "    'border_count': 128,                 # Gradient Estimation\n",
    "    'class_weights': [1, 5]  # Adjust class weights because of unbalanced classes\n",
    "}"
   ]
  },
  {
   "cell_type": "code",
   "execution_count": 47,
   "metadata": {},
   "outputs": [
    {
     "name": "stdout",
     "output_type": "stream",
     "text": [
      "Average Accuracy: 0.8437931034482758\n",
      "Average F1 Score: 0.40715728715728716\n",
      "Average Precision: 0.4419047619047619\n",
      "Average Recall: 0.44416666666666665\n"
     ]
    }
   ],
   "source": [
    "# Initialize CatBoost classifier\n",
    "catboost_model = CatBoostClassifier(**params)\n",
    "\n",
    "# Train the model using KFold cross-validation\n",
    "accuracies = []\n",
    "precisions = []\n",
    "recalls = []\n",
    "f1_scores = []\n",
    "\n",
    "for train_index, val_index in k_fold.split(x_train):\n",
    "    X_train_fold, X_val_fold = x_train.iloc[train_index], x_train.iloc[val_index]\n",
    "    y_train_fold, y_val_fold = y_train.iloc[train_index], y_train.iloc[val_index]\n",
    "    \n",
    "    # Fit the model\n",
    "    catboost_model.fit(X_train_fold, y_train_fold, eval_set=(X_val_fold, y_val_fold), verbose=False)\n",
    "    \n",
    "    # Predict on validation set\n",
    "    y_pred = catboost_model.predict(X_val_fold)\n",
    "    \n",
    "    # Calculate metrics\n",
    "    accuracy = accuracy_score(y_val_fold, y_pred)\n",
    "    precision = precision_score(y_val_fold, y_pred, zero_division=0)\n",
    "    recall = recall_score(y_val_fold, y_pred, zero_division=0)\n",
    "    f1 = f1_score(y_val_fold, y_pred, zero_division=0)\n",
    "    \n",
    "    accuracies.append(accuracy)\n",
    "    precisions.append(precision)\n",
    "    recalls.append(recall)\n",
    "    f1_scores.append(f1)\n",
    "\n",
    "# Calculate and print average metrics\n",
    "avg_accuracy = sum(accuracies) / len(accuracies)\n",
    "avg_precision = sum(precisions) / len(precisions)\n",
    "avg_recall = sum(recalls) / len(recalls)\n",
    "avg_f1_score = sum(f1_scores) / len(f1_scores)\n",
    "\n",
    "print(\"Average Accuracy:\", avg_accuracy)\n",
    "print(\"Average F1 Score:\", avg_f1_score)\n",
    "print(\"Average Precision:\", avg_precision)\n",
    "print(\"Average Recall:\", avg_recall)"
   ]
  },
  {
   "cell_type": "markdown",
   "metadata": {},
   "source": [
    "For class wieghts [1,10]"
   ]
  },
  {
   "cell_type": "code",
   "execution_count": 48,
   "metadata": {},
   "outputs": [],
   "source": [
    "# Define CatBoost parameters\n",
    "params = {\n",
    "    'learning_rate': 0.1,               # Learning Rate\n",
    "    'n_estimators': 100,                # Number of Trees\n",
    "    'max_depth': 6,                     # Depth of Trees\n",
    "    'l2_leaf_reg': 3,                   # Regularization Parameter: L2 regularization\n",
    "    'min_child_samples': 5,             # Regularization Parameter: Minimum number of samples required to split a node\n",
    "    'subsample': 0.8,                   # Subsampling\n",
    "    'loss_function': 'Logloss',         # Objective Function\n",
    "    'eval_metric': 'Accuracy',                # Evaluation Metric\n",
    "    'border_count': 128,                 # Gradient Estimation\n",
    "    'class_weights': [1, 10]  # Adjust class weights because of unbalanced classes\n",
    "}"
   ]
  },
  {
   "cell_type": "code",
   "execution_count": 49,
   "metadata": {},
   "outputs": [
    {
     "name": "stdout",
     "output_type": "stream",
     "text": [
      "Average Accuracy: 0.793103448275862\n",
      "Average F1 Score: 0.5559499082900619\n",
      "Average Precision: 0.4786538461538462\n",
      "Average Recall: 0.8633333333333333\n"
     ]
    }
   ],
   "source": [
    "# Initialize CatBoost classifier\n",
    "catboost_model = CatBoostClassifier(**params)\n",
    "\n",
    "# Train the model using KFold cross-validation\n",
    "accuracies = []\n",
    "precisions = []\n",
    "recalls = []\n",
    "f1_scores = []\n",
    "\n",
    "for train_index, val_index in k_fold.split(x_train):\n",
    "    X_train_fold, X_val_fold = x_train.iloc[train_index], x_train.iloc[val_index]\n",
    "    y_train_fold, y_val_fold = y_train.iloc[train_index], y_train.iloc[val_index]\n",
    "    \n",
    "    # Fit the model\n",
    "    catboost_model.fit(X_train_fold, y_train_fold, eval_set=(X_val_fold, y_val_fold), verbose=False)\n",
    "    \n",
    "    # Predict on validation set\n",
    "    y_pred = catboost_model.predict(X_val_fold)\n",
    "    \n",
    "    # Calculate metrics\n",
    "    accuracy = accuracy_score(y_val_fold, y_pred)\n",
    "    precision = precision_score(y_val_fold, y_pred, zero_division=0)\n",
    "    recall = recall_score(y_val_fold, y_pred, zero_division=0)\n",
    "    f1 = f1_score(y_val_fold, y_pred, zero_division=0)\n",
    "    \n",
    "    accuracies.append(accuracy)\n",
    "    precisions.append(precision)\n",
    "    recalls.append(recall)\n",
    "    f1_scores.append(f1)\n",
    "\n",
    "# Calculate and print average metrics\n",
    "avg_accuracy = sum(accuracies) / len(accuracies)\n",
    "avg_precision = sum(precisions) / len(precisions)\n",
    "avg_recall = sum(recalls) / len(recalls)\n",
    "avg_f1_score = sum(f1_scores) / len(f1_scores)\n",
    "\n",
    "print(\"Average Accuracy:\", avg_accuracy)\n",
    "print(\"Average F1 Score:\", avg_f1_score)\n",
    "print(\"Average Precision:\", avg_precision)\n",
    "print(\"Average Recall:\", avg_recall)"
   ]
  },
  {
   "cell_type": "markdown",
   "metadata": {},
   "source": [
    "For class weights [1,15]"
   ]
  },
  {
   "cell_type": "code",
   "execution_count": 54,
   "metadata": {},
   "outputs": [],
   "source": [
    "# Define CatBoost parameters\n",
    "params = {\n",
    "    'learning_rate': 0.1,               # Learning Rate\n",
    "    'n_estimators': 100,                # Number of Trees\n",
    "    'max_depth': 6,                     # Depth of Trees\n",
    "    'l2_leaf_reg': 3,                   # Regularization Parameter: L2 regularization\n",
    "    'min_child_samples': 5,             # Regularization Parameter: Minimum number of samples required to split a node\n",
    "    'subsample': 0.8,                   # Subsampling\n",
    "    'loss_function': 'Logloss',         # Objective Function\n",
    "    'eval_metric': 'Accuracy',                # Evaluation Metric\n",
    "    'border_count': 128,                 # Gradient Estimation\n",
    "    'class_weights': [1, 15]  # Adjust class weights because of unbalanced classes\n",
    "}"
   ]
  },
  {
   "cell_type": "code",
   "execution_count": 55,
   "metadata": {},
   "outputs": [
    {
     "name": "stdout",
     "output_type": "stream",
     "text": [
      "Average Accuracy: 0.6836781609195403\n",
      "Average F1 Score: 0.5201533538146442\n",
      "Average Precision: 0.419845372019285\n",
      "Average Recall: 0.9291666666666666\n"
     ]
    }
   ],
   "source": [
    "# Initialize CatBoost classifier\n",
    "catboost_model = CatBoostClassifier(**params)\n",
    "\n",
    "# Train the model using KFold cross-validation\n",
    "accuracies = []\n",
    "precisions = []\n",
    "recalls = []\n",
    "f1_scores = []\n",
    "\n",
    "for train_index, val_index in k_fold.split(x_train):\n",
    "    X_train_fold, X_val_fold = x_train.iloc[train_index], x_train.iloc[val_index]\n",
    "    y_train_fold, y_val_fold = y_train.iloc[train_index], y_train.iloc[val_index]\n",
    "    \n",
    "    # Fit the model\n",
    "    catboost_model.fit(X_train_fold, y_train_fold, eval_set=(X_val_fold, y_val_fold), verbose=False)\n",
    "    \n",
    "    # Predict on validation set\n",
    "    y_pred = catboost_model.predict(X_val_fold)\n",
    "    \n",
    "    # Calculate metrics\n",
    "    accuracy = accuracy_score(y_val_fold, y_pred)\n",
    "    precision = precision_score(y_val_fold, y_pred, zero_division=0)\n",
    "    recall = recall_score(y_val_fold, y_pred, zero_division=0)\n",
    "    f1 = f1_score(y_val_fold, y_pred, zero_division=0)\n",
    "    \n",
    "    accuracies.append(accuracy)\n",
    "    precisions.append(precision)\n",
    "    recalls.append(recall)\n",
    "    f1_scores.append(f1)\n",
    "\n",
    "# Calculate and print average metrics\n",
    "avg_accuracy = sum(accuracies) / len(accuracies)\n",
    "avg_precision = sum(precisions) / len(precisions)\n",
    "avg_recall = sum(recalls) / len(recalls)\n",
    "avg_f1_score = sum(f1_scores) / len(f1_scores)\n",
    "\n",
    "print(\"Average Accuracy:\", avg_accuracy)\n",
    "print(\"Average F1 Score:\", avg_f1_score)\n",
    "print(\"Average Precision:\", avg_precision)\n",
    "print(\"Average Recall:\", avg_recall)"
   ]
  },
  {
   "cell_type": "markdown",
   "metadata": {},
   "source": [
    "For class wieghts [1,20]"
   ]
  },
  {
   "cell_type": "code",
   "execution_count": 50,
   "metadata": {},
   "outputs": [],
   "source": [
    "# Define CatBoost parameters\n",
    "params = {\n",
    "    'learning_rate': 0.1,               # Learning Rate\n",
    "    'n_estimators': 100,                # Number of Trees\n",
    "    'max_depth': 6,                     # Depth of Trees\n",
    "    'l2_leaf_reg': 3,                   # Regularization Parameter: L2 regularization\n",
    "    'min_child_samples': 5,             # Regularization Parameter: Minimum number of samples required to split a node\n",
    "    'subsample': 0.8,                   # Subsampling\n",
    "    'loss_function': 'Logloss',         # Objective Function\n",
    "    'eval_metric': 'Accuracy',                # Evaluation Metric\n",
    "    'border_count': 128,                 # Gradient Estimation\n",
    "    'class_weights': [1, 20]  # Adjust class weights because of unbalanced classes\n",
    "}"
   ]
  },
  {
   "cell_type": "code",
   "execution_count": 51,
   "metadata": {},
   "outputs": [
    {
     "name": "stdout",
     "output_type": "stream",
     "text": [
      "Average Accuracy: 0.6757471264367816\n",
      "Average F1 Score: 0.48895497827439743\n",
      "Average Precision: 0.37577540106951873\n",
      "Average Recall: 0.9291666666666666\n"
     ]
    }
   ],
   "source": [
    "# Initialize CatBoost classifier\n",
    "catboost_model = CatBoostClassifier(**params)\n",
    "\n",
    "# Train the model using KFold cross-validation\n",
    "accuracies = []\n",
    "precisions = []\n",
    "recalls = []\n",
    "f1_scores = []\n",
    "\n",
    "for train_index, val_index in k_fold.split(x_train):\n",
    "    X_train_fold, X_val_fold = x_train.iloc[train_index], x_train.iloc[val_index]\n",
    "    y_train_fold, y_val_fold = y_train.iloc[train_index], y_train.iloc[val_index]\n",
    "    \n",
    "    # Fit the model\n",
    "    catboost_model.fit(X_train_fold, y_train_fold, eval_set=(X_val_fold, y_val_fold), verbose=False)\n",
    "    \n",
    "    # Predict on validation set\n",
    "    y_pred = catboost_model.predict(X_val_fold)\n",
    "    \n",
    "    # Calculate metrics\n",
    "    accuracy = accuracy_score(y_val_fold, y_pred)\n",
    "    precision = precision_score(y_val_fold, y_pred, zero_division=0)\n",
    "    recall = recall_score(y_val_fold, y_pred, zero_division=0)\n",
    "    f1 = f1_score(y_val_fold, y_pred, zero_division=0)\n",
    "    \n",
    "    accuracies.append(accuracy)\n",
    "    precisions.append(precision)\n",
    "    recalls.append(recall)\n",
    "    f1_scores.append(f1)\n",
    "\n",
    "# Calculate and print average metrics\n",
    "avg_accuracy = sum(accuracies) / len(accuracies)\n",
    "avg_precision = sum(precisions) / len(precisions)\n",
    "avg_recall = sum(recalls) / len(recalls)\n",
    "avg_f1_score = sum(f1_scores) / len(f1_scores)\n",
    "\n",
    "print(\"Average Accuracy:\", avg_accuracy)\n",
    "print(\"Average F1 Score:\", avg_f1_score)\n",
    "print(\"Average Precision:\", avg_precision)\n",
    "print(\"Average Recall:\", avg_recall)"
   ]
  },
  {
   "cell_type": "markdown",
   "metadata": {},
   "source": [
    "**Trying Different Learning Rates**"
   ]
  },
  {
   "cell_type": "markdown",
   "metadata": {},
   "source": [
    "For learning rate = 0.01"
   ]
  },
  {
   "cell_type": "code",
   "execution_count": 75,
   "metadata": {},
   "outputs": [],
   "source": [
    "# Define CatBoost parameters\n",
    "params = {\n",
    "    'learning_rate': 0.01,               # Learning Rate\n",
    "    'n_estimators': 100,                # Number of Trees\n",
    "    'max_depth': 6,                     # Depth of Trees\n",
    "    'l2_leaf_reg': 3,                   # Regularization Parameter: L2 regularization\n",
    "    'min_child_samples': 5,             # Regularization Parameter: Minimum number of samples required to split a node\n",
    "    'subsample': 0.8,                   # Subsampling\n",
    "    'loss_function': 'Logloss',         # Objective Function\n",
    "    'eval_metric': 'Accuracy',                # Evaluation Metric\n",
    "    'border_count': 128,                 # Gradient Estimation\n",
    "    'class_weights': [1, 10]  # Adjust class weights because of unbalanced classes\n",
    "}"
   ]
  },
  {
   "cell_type": "code",
   "execution_count": 76,
   "metadata": {},
   "outputs": [
    {
     "name": "stdout",
     "output_type": "stream",
     "text": [
      "Average Accuracy: 0.747816091954023\n",
      "Average F1 Score: 0.47449381536338053\n",
      "Average Precision: 0.35378193701723115\n",
      "Average Recall: 0.8383333333333333\n",
      "Average Training Time (seconds): 0.4982882261276245\n"
     ]
    }
   ],
   "source": [
    "# Initialize CatBoost classifier\n",
    "catboost_model = CatBoostClassifier(**params)\n",
    "\n",
    "# Train the model using KFold cross-validation\n",
    "accuracies = []\n",
    "precisions = []\n",
    "recalls = []\n",
    "f1_scores = []\n",
    "training_times = []\n",
    "\n",
    "for train_index, val_index in k_fold.split(x_train):\n",
    "    X_train_fold, X_val_fold = x_train.iloc[train_index], x_train.iloc[val_index]\n",
    "    y_train_fold, y_val_fold = y_train.iloc[train_index], y_train.iloc[val_index]\n",
    "    \n",
    "    # Record start time\n",
    "    start_time = time.time()\n",
    "    \n",
    "    # Fit the model\n",
    "    catboost_model.fit(X_train_fold, y_train_fold, eval_set=(X_val_fold, y_val_fold), verbose=False)\n",
    "    \n",
    "    # Record end time\n",
    "    end_time = time.time()\n",
    "    \n",
    "    # Calculate training time\n",
    "    training_time = end_time - start_time\n",
    "    training_times.append(training_time)\n",
    "    \n",
    "    # Predict on validation set\n",
    "    y_pred = catboost_model.predict(X_val_fold)\n",
    "    \n",
    "    # Calculate metrics\n",
    "    accuracy = accuracy_score(y_val_fold, y_pred)\n",
    "    precision = precision_score(y_val_fold, y_pred, zero_division=0)\n",
    "    recall = recall_score(y_val_fold, y_pred, zero_division=0)\n",
    "    f1 = f1_score(y_val_fold, y_pred, zero_division=0)\n",
    "    \n",
    "    accuracies.append(accuracy)\n",
    "    precisions.append(precision)\n",
    "    recalls.append(recall)\n",
    "    f1_scores.append(f1)\n",
    "\n",
    "# Calculate and print average metrics\n",
    "avg_accuracy = sum(accuracies) / len(accuracies)\n",
    "avg_precision = sum(precisions) / len(precisions)\n",
    "avg_recall = sum(recalls) / len(recalls)\n",
    "avg_f1_score = sum(f1_scores) / len(f1_scores)\n",
    "\n",
    "# Calculate average training time\n",
    "avg_training_time = sum(training_times) / len(training_times)\n",
    "\n",
    "print(\"Average Accuracy:\", avg_accuracy)\n",
    "print(\"Average F1 Score:\", avg_f1_score)\n",
    "print(\"Average Precision:\", avg_precision)\n",
    "print(\"Average Recall:\", avg_recall)\n",
    "print(\"Average Training Time (seconds):\", avg_training_time)\n"
   ]
  },
  {
   "cell_type": "markdown",
   "metadata": {},
   "source": [
    "For learning rate = 0.05"
   ]
  },
  {
   "cell_type": "code",
   "execution_count": 77,
   "metadata": {},
   "outputs": [],
   "source": [
    "# Define CatBoost parameters\n",
    "params = {\n",
    "    'learning_rate': 0.05,               # Learning Rate\n",
    "    'n_estimators': 100,                # Number of Trees\n",
    "    'max_depth': 6,                     # Depth of Trees\n",
    "    'l2_leaf_reg': 3,                   # Regularization Parameter: L2 regularization\n",
    "    'min_child_samples': 5,             # Regularization Parameter: Minimum number of samples required to split a node\n",
    "    'subsample': 0.8,                   # Subsampling\n",
    "    'loss_function': 'Logloss',         # Objective Function\n",
    "    'eval_metric': 'Accuracy',                # Evaluation Metric\n",
    "    'border_count': 128,                 # Gradient Estimation\n",
    "    'class_weights': [1, 10]  # Adjust class weights because of unbalanced classes\n",
    "}"
   ]
  },
  {
   "cell_type": "code",
   "execution_count": 78,
   "metadata": {},
   "outputs": [
    {
     "name": "stdout",
     "output_type": "stream",
     "text": [
      "Average Accuracy: 0.7766666666666666\n",
      "Average F1 Score: 0.5323148178902655\n",
      "Average Precision: 0.43923243423243424\n",
      "Average Recall: 0.8633333333333333\n",
      "Average Training Time (seconds): 0.46749582290649416\n"
     ]
    }
   ],
   "source": [
    "# Initialize CatBoost classifier\n",
    "catboost_model = CatBoostClassifier(**params)\n",
    "\n",
    "# Train the model using KFold cross-validation\n",
    "accuracies = []\n",
    "precisions = []\n",
    "recalls = []\n",
    "f1_scores = []\n",
    "training_times = []\n",
    "\n",
    "for train_index, val_index in k_fold.split(x_train):\n",
    "    X_train_fold, X_val_fold = x_train.iloc[train_index], x_train.iloc[val_index]\n",
    "    y_train_fold, y_val_fold = y_train.iloc[train_index], y_train.iloc[val_index]\n",
    "    \n",
    "    # Record start time\n",
    "    start_time = time.time()\n",
    "    \n",
    "    # Fit the model\n",
    "    catboost_model.fit(X_train_fold, y_train_fold, eval_set=(X_val_fold, y_val_fold), verbose=False)\n",
    "    \n",
    "    # Record end time\n",
    "    end_time = time.time()\n",
    "    \n",
    "    # Calculate training time\n",
    "    training_time = end_time - start_time\n",
    "    training_times.append(training_time)\n",
    "    \n",
    "    # Predict on validation set\n",
    "    y_pred = catboost_model.predict(X_val_fold)\n",
    "    \n",
    "    # Calculate metrics\n",
    "    accuracy = accuracy_score(y_val_fold, y_pred)\n",
    "    precision = precision_score(y_val_fold, y_pred, zero_division=0)\n",
    "    recall = recall_score(y_val_fold, y_pred, zero_division=0)\n",
    "    f1 = f1_score(y_val_fold, y_pred, zero_division=0)\n",
    "    \n",
    "    accuracies.append(accuracy)\n",
    "    precisions.append(precision)\n",
    "    recalls.append(recall)\n",
    "    f1_scores.append(f1)\n",
    "\n",
    "# Calculate and print average metrics\n",
    "avg_accuracy = sum(accuracies) / len(accuracies)\n",
    "avg_precision = sum(precisions) / len(precisions)\n",
    "avg_recall = sum(recalls) / len(recalls)\n",
    "avg_f1_score = sum(f1_scores) / len(f1_scores)\n",
    "\n",
    "# Calculate average training time\n",
    "avg_training_time = sum(training_times) / len(training_times)\n",
    "\n",
    "print(\"Average Accuracy:\", avg_accuracy)\n",
    "print(\"Average F1 Score:\", avg_f1_score)\n",
    "print(\"Average Precision:\", avg_precision)\n",
    "print(\"Average Recall:\", avg_recall)\n",
    "print(\"Average Training Time (seconds):\", avg_training_time)\n"
   ]
  },
  {
   "cell_type": "markdown",
   "metadata": {},
   "source": [
    "For learning rate = 0.1"
   ]
  },
  {
   "cell_type": "code",
   "execution_count": 79,
   "metadata": {},
   "outputs": [],
   "source": [
    "# Define CatBoost parameters\n",
    "params = {\n",
    "    'learning_rate': 0.1,               # Learning Rate\n",
    "    'n_estimators': 100,                # Number of Trees\n",
    "    'max_depth': 6,                     # Depth of Trees\n",
    "    'l2_leaf_reg': 3,                   # Regularization Parameter: L2 regularization\n",
    "    'min_child_samples': 5,             # Regularization Parameter: Minimum number of samples required to split a node\n",
    "    'subsample': 0.8,                   # Subsampling\n",
    "    'loss_function': 'Logloss',         # Objective Function\n",
    "    'eval_metric': 'Accuracy',                # Evaluation Metric\n",
    "    'border_count': 128,                 # Gradient Estimation\n",
    "    'class_weights': [1, 10]  # Adjust class weights because of unbalanced classes\n",
    "}"
   ]
  },
  {
   "cell_type": "code",
   "execution_count": 80,
   "metadata": {},
   "outputs": [
    {
     "name": "stdout",
     "output_type": "stream",
     "text": [
      "Average Accuracy: 0.793103448275862\n",
      "Average F1 Score: 0.5559499082900619\n",
      "Average Precision: 0.4786538461538462\n",
      "Average Recall: 0.8633333333333333\n",
      "Average Training Time (seconds): 0.5149653434753418\n"
     ]
    }
   ],
   "source": [
    "# Initialize CatBoost classifier\n",
    "catboost_model = CatBoostClassifier(**params)\n",
    "\n",
    "# Train the model using KFold cross-validation\n",
    "accuracies = []\n",
    "precisions = []\n",
    "recalls = []\n",
    "f1_scores = []\n",
    "training_times = []\n",
    "\n",
    "for train_index, val_index in k_fold.split(x_train):\n",
    "    X_train_fold, X_val_fold = x_train.iloc[train_index], x_train.iloc[val_index]\n",
    "    y_train_fold, y_val_fold = y_train.iloc[train_index], y_train.iloc[val_index]\n",
    "    \n",
    "    # Record start time\n",
    "    start_time = time.time()\n",
    "    \n",
    "    # Fit the model\n",
    "    catboost_model.fit(X_train_fold, y_train_fold, eval_set=(X_val_fold, y_val_fold), verbose=False)\n",
    "    \n",
    "    # Record end time\n",
    "    end_time = time.time()\n",
    "    \n",
    "    # Calculate training time\n",
    "    training_time = end_time - start_time\n",
    "    training_times.append(training_time)\n",
    "    \n",
    "    # Predict on validation set\n",
    "    y_pred = catboost_model.predict(X_val_fold)\n",
    "    \n",
    "    # Calculate metrics\n",
    "    accuracy = accuracy_score(y_val_fold, y_pred)\n",
    "    precision = precision_score(y_val_fold, y_pred, zero_division=0)\n",
    "    recall = recall_score(y_val_fold, y_pred, zero_division=0)\n",
    "    f1 = f1_score(y_val_fold, y_pred, zero_division=0)\n",
    "    \n",
    "    accuracies.append(accuracy)\n",
    "    precisions.append(precision)\n",
    "    recalls.append(recall)\n",
    "    f1_scores.append(f1)\n",
    "\n",
    "# Calculate and print average metrics\n",
    "avg_accuracy = sum(accuracies) / len(accuracies)\n",
    "avg_precision = sum(precisions) / len(precisions)\n",
    "avg_recall = sum(recalls) / len(recalls)\n",
    "avg_f1_score = sum(f1_scores) / len(f1_scores)\n",
    "\n",
    "# Calculate average training time\n",
    "avg_training_time = sum(training_times) / len(training_times)\n",
    "\n",
    "print(\"Average Accuracy:\", avg_accuracy)\n",
    "print(\"Average F1 Score:\", avg_f1_score)\n",
    "print(\"Average Precision:\", avg_precision)\n",
    "print(\"Average Recall:\", avg_recall)\n",
    "print(\"Average Training Time (seconds):\", avg_training_time)\n"
   ]
  },
  {
   "cell_type": "markdown",
   "metadata": {},
   "source": [
    "For learning rate = 0.3"
   ]
  },
  {
   "cell_type": "code",
   "execution_count": 81,
   "metadata": {},
   "outputs": [],
   "source": [
    "# Define CatBoost parameters\n",
    "params = {\n",
    "    'learning_rate': 0.3,               # Learning Rate\n",
    "    'n_estimators': 100,                # Number of Trees\n",
    "    'max_depth': 6,                     # Depth of Trees\n",
    "    'l2_leaf_reg': 3,                   # Regularization Parameter: L2 regularization\n",
    "    'min_child_samples': 5,             # Regularization Parameter: Minimum number of samples required to split a node\n",
    "    'subsample': 0.8,                   # Subsampling\n",
    "    'loss_function': 'Logloss',         # Objective Function\n",
    "    'eval_metric': 'Accuracy',                # Evaluation Metric\n",
    "    'border_count': 128,                 # Gradient Estimation\n",
    "    'class_weights': [1, 10]  # Adjust class weights because of unbalanced classes\n",
    "}"
   ]
  },
  {
   "cell_type": "code",
   "execution_count": 82,
   "metadata": {},
   "outputs": [
    {
     "name": "stdout",
     "output_type": "stream",
     "text": [
      "Average Accuracy: 0.7562068965517241\n",
      "Average F1 Score: 0.41913838647853996\n",
      "Average Precision: 0.3427790346907994\n",
      "Average Recall: 0.6983333333333335\n",
      "Average Training Time (seconds): 0.4889732599258423\n"
     ]
    }
   ],
   "source": [
    "# Initialize CatBoost classifier\n",
    "catboost_model = CatBoostClassifier(**params)\n",
    "\n",
    "# Train the model using KFold cross-validation\n",
    "accuracies = []\n",
    "precisions = []\n",
    "recalls = []\n",
    "f1_scores = []\n",
    "training_times = []\n",
    "\n",
    "for train_index, val_index in k_fold.split(x_train):\n",
    "    X_train_fold, X_val_fold = x_train.iloc[train_index], x_train.iloc[val_index]\n",
    "    y_train_fold, y_val_fold = y_train.iloc[train_index], y_train.iloc[val_index]\n",
    "    \n",
    "    # Record start time\n",
    "    start_time = time.time()\n",
    "    \n",
    "    # Fit the model\n",
    "    catboost_model.fit(X_train_fold, y_train_fold, eval_set=(X_val_fold, y_val_fold), verbose=False)\n",
    "    \n",
    "    # Record end time\n",
    "    end_time = time.time()\n",
    "    \n",
    "    # Calculate training time\n",
    "    training_time = end_time - start_time\n",
    "    training_times.append(training_time)\n",
    "    \n",
    "    # Predict on validation set\n",
    "    y_pred = catboost_model.predict(X_val_fold)\n",
    "    \n",
    "    # Calculate metrics\n",
    "    accuracy = accuracy_score(y_val_fold, y_pred)\n",
    "    precision = precision_score(y_val_fold, y_pred, zero_division=0)\n",
    "    recall = recall_score(y_val_fold, y_pred, zero_division=0)\n",
    "    f1 = f1_score(y_val_fold, y_pred, zero_division=0)\n",
    "    \n",
    "    accuracies.append(accuracy)\n",
    "    precisions.append(precision)\n",
    "    recalls.append(recall)\n",
    "    f1_scores.append(f1)\n",
    "\n",
    "# Calculate and print average metrics\n",
    "avg_accuracy = sum(accuracies) / len(accuracies)\n",
    "avg_precision = sum(precisions) / len(precisions)\n",
    "avg_recall = sum(recalls) / len(recalls)\n",
    "avg_f1_score = sum(f1_scores) / len(f1_scores)\n",
    "\n",
    "# Calculate average training time\n",
    "avg_training_time = sum(training_times) / len(training_times)\n",
    "\n",
    "print(\"Average Accuracy:\", avg_accuracy)\n",
    "print(\"Average F1 Score:\", avg_f1_score)\n",
    "print(\"Average Precision:\", avg_precision)\n",
    "print(\"Average Recall:\", avg_recall)\n",
    "print(\"Average Training Time (seconds):\", avg_training_time)\n"
   ]
  },
  {
   "cell_type": "markdown",
   "metadata": {},
   "source": [
    "For learning rate = 0.5"
   ]
  },
  {
   "cell_type": "code",
   "execution_count": 83,
   "metadata": {},
   "outputs": [],
   "source": [
    "# Define CatBoost parameters\n",
    "params = {\n",
    "    'learning_rate': 0.5,               # Learning Rate\n",
    "    'n_estimators': 100,                # Number of Trees\n",
    "    'max_depth': 6,                     # Depth of Trees\n",
    "    'l2_leaf_reg': 3,                   # Regularization Parameter: L2 regularization\n",
    "    'min_child_samples': 5,             # Regularization Parameter: Minimum number of samples required to split a node\n",
    "    'subsample': 0.8,                   # Subsampling\n",
    "    'loss_function': 'Logloss',         # Objective Function\n",
    "    'eval_metric': 'Accuracy',                # Evaluation Metric\n",
    "    'border_count': 128,                 # Gradient Estimation\n",
    "    'class_weights': [1, 10]  # Adjust class weights because of unbalanced classes\n",
    "}"
   ]
  },
  {
   "cell_type": "code",
   "execution_count": 84,
   "metadata": {},
   "outputs": [
    {
     "name": "stdout",
     "output_type": "stream",
     "text": [
      "Average Accuracy: 0.7164367816091953\n",
      "Average F1 Score: 0.44377921950172594\n",
      "Average Precision: 0.3470054945054945\n",
      "Average Recall: 0.8183333333333334\n",
      "Average Training Time (seconds): 0.5634777784347534\n"
     ]
    }
   ],
   "source": [
    "# Initialize CatBoost classifier\n",
    "catboost_model = CatBoostClassifier(**params)\n",
    "\n",
    "# Train the model using KFold cross-validation\n",
    "accuracies = []\n",
    "precisions = []\n",
    "recalls = []\n",
    "f1_scores = []\n",
    "training_times = []\n",
    "\n",
    "for train_index, val_index in k_fold.split(x_train):\n",
    "    X_train_fold, X_val_fold = x_train.iloc[train_index], x_train.iloc[val_index]\n",
    "    y_train_fold, y_val_fold = y_train.iloc[train_index], y_train.iloc[val_index]\n",
    "    \n",
    "    # Record start time\n",
    "    start_time = time.time()\n",
    "    \n",
    "    # Fit the model\n",
    "    catboost_model.fit(X_train_fold, y_train_fold, eval_set=(X_val_fold, y_val_fold), verbose=False)\n",
    "    \n",
    "    # Record end time\n",
    "    end_time = time.time()\n",
    "    \n",
    "    # Calculate training time\n",
    "    training_time = end_time - start_time\n",
    "    training_times.append(training_time)\n",
    "    \n",
    "    # Predict on validation set\n",
    "    y_pred = catboost_model.predict(X_val_fold)\n",
    "    \n",
    "    # Calculate metrics\n",
    "    accuracy = accuracy_score(y_val_fold, y_pred)\n",
    "    precision = precision_score(y_val_fold, y_pred, zero_division=0)\n",
    "    recall = recall_score(y_val_fold, y_pred, zero_division=0)\n",
    "    f1 = f1_score(y_val_fold, y_pred, zero_division=0)\n",
    "    \n",
    "    accuracies.append(accuracy)\n",
    "    precisions.append(precision)\n",
    "    recalls.append(recall)\n",
    "    f1_scores.append(f1)\n",
    "\n",
    "# Calculate and print average metrics\n",
    "avg_accuracy = sum(accuracies) / len(accuracies)\n",
    "avg_precision = sum(precisions) / len(precisions)\n",
    "avg_recall = sum(recalls) / len(recalls)\n",
    "avg_f1_score = sum(f1_scores) / len(f1_scores)\n",
    "\n",
    "# Calculate average training time\n",
    "avg_training_time = sum(training_times) / len(training_times)\n",
    "\n",
    "print(\"Average Accuracy:\", avg_accuracy)\n",
    "print(\"Average F1 Score:\", avg_f1_score)\n",
    "print(\"Average Precision:\", avg_precision)\n",
    "print(\"Average Recall:\", avg_recall)\n",
    "print(\"Average Training Time (seconds):\", avg_training_time)\n"
   ]
  },
  {
   "cell_type": "markdown",
   "metadata": {},
   "source": [
    "For learning rate = 0.7"
   ]
  },
  {
   "cell_type": "code",
   "execution_count": 85,
   "metadata": {},
   "outputs": [],
   "source": [
    "# Define CatBoost parameters\n",
    "params = {\n",
    "    'learning_rate': 0.7,               # Learning Rate\n",
    "    'n_estimators': 100,                # Number of Trees\n",
    "    'max_depth': 6,                     # Depth of Trees\n",
    "    'l2_leaf_reg': 3,                   # Regularization Parameter: L2 regularization\n",
    "    'min_child_samples': 5,             # Regularization Parameter: Minimum number of samples required to split a node\n",
    "    'subsample': 0.8,                   # Subsampling\n",
    "    'loss_function': 'Logloss',         # Objective Function\n",
    "    'eval_metric': 'Accuracy',                # Evaluation Metric\n",
    "    'border_count': 128,                 # Gradient Estimation\n",
    "    'class_weights': [1, 10]  # Adjust class weights because of unbalanced classes\n",
    "}"
   ]
  },
  {
   "cell_type": "code",
   "execution_count": 86,
   "metadata": {},
   "outputs": [
    {
     "name": "stdout",
     "output_type": "stream",
     "text": [
      "Average Accuracy: 0.7549425287356322\n",
      "Average F1 Score: 0.44848959082974427\n",
      "Average Precision: 0.37190559440559434\n",
      "Average Recall: 0.7783333333333334\n",
      "Average Training Time (seconds): 0.4836781740188599\n"
     ]
    }
   ],
   "source": [
    "# Initialize CatBoost classifier\n",
    "catboost_model = CatBoostClassifier(**params)\n",
    "\n",
    "# Train the model using KFold cross-validation\n",
    "accuracies = []\n",
    "precisions = []\n",
    "recalls = []\n",
    "f1_scores = []\n",
    "training_times = []\n",
    "\n",
    "for train_index, val_index in k_fold.split(x_train):\n",
    "    X_train_fold, X_val_fold = x_train.iloc[train_index], x_train.iloc[val_index]\n",
    "    y_train_fold, y_val_fold = y_train.iloc[train_index], y_train.iloc[val_index]\n",
    "    \n",
    "    # Record start time\n",
    "    start_time = time.time()\n",
    "    \n",
    "    # Fit the model\n",
    "    catboost_model.fit(X_train_fold, y_train_fold, eval_set=(X_val_fold, y_val_fold), verbose=False)\n",
    "    \n",
    "    # Record end time\n",
    "    end_time = time.time()\n",
    "    \n",
    "    # Calculate training time\n",
    "    training_time = end_time - start_time\n",
    "    training_times.append(training_time)\n",
    "    \n",
    "    # Predict on validation set\n",
    "    y_pred = catboost_model.predict(X_val_fold)\n",
    "    \n",
    "    # Calculate metrics\n",
    "    accuracy = accuracy_score(y_val_fold, y_pred)\n",
    "    precision = precision_score(y_val_fold, y_pred, zero_division=0)\n",
    "    recall = recall_score(y_val_fold, y_pred, zero_division=0)\n",
    "    f1 = f1_score(y_val_fold, y_pred, zero_division=0)\n",
    "    \n",
    "    accuracies.append(accuracy)\n",
    "    precisions.append(precision)\n",
    "    recalls.append(recall)\n",
    "    f1_scores.append(f1)\n",
    "\n",
    "# Calculate and print average metrics\n",
    "avg_accuracy = sum(accuracies) / len(accuracies)\n",
    "avg_precision = sum(precisions) / len(precisions)\n",
    "avg_recall = sum(recalls) / len(recalls)\n",
    "avg_f1_score = sum(f1_scores) / len(f1_scores)\n",
    "\n",
    "# Calculate average training time\n",
    "avg_training_time = sum(training_times) / len(training_times)\n",
    "\n",
    "print(\"Average Accuracy:\", avg_accuracy)\n",
    "print(\"Average F1 Score:\", avg_f1_score)\n",
    "print(\"Average Precision:\", avg_precision)\n",
    "print(\"Average Recall:\", avg_recall)\n",
    "print(\"Average Training Time (seconds):\", avg_training_time)\n"
   ]
  },
  {
   "cell_type": "markdown",
   "metadata": {},
   "source": [
    "For learning rate = 0.9"
   ]
  },
  {
   "cell_type": "code",
   "execution_count": 87,
   "metadata": {},
   "outputs": [],
   "source": [
    "# Define CatBoost parameters\n",
    "params = {\n",
    "    'learning_rate': 0.9,               # Learning Rate\n",
    "    'n_estimators': 100,                # Number of Trees\n",
    "    'max_depth': 6,                     # Depth of Trees\n",
    "    'l2_leaf_reg': 3,                   # Regularization Parameter: L2 regularization\n",
    "    'min_child_samples': 5,             # Regularization Parameter: Minimum number of samples required to split a node\n",
    "    'subsample': 0.8,                   # Subsampling\n",
    "    'loss_function': 'Logloss',         # Objective Function\n",
    "    'eval_metric': 'Accuracy',                # Evaluation Metric\n",
    "    'border_count': 128,                 # Gradient Estimation\n",
    "    'class_weights': [1, 10]  # Adjust class weights because of unbalanced classes\n",
    "}"
   ]
  },
  {
   "cell_type": "code",
   "execution_count": 88,
   "metadata": {},
   "outputs": [
    {
     "name": "stdout",
     "output_type": "stream",
     "text": [
      "Average Accuracy: 0.6517241379310346\n",
      "Average F1 Score: 0.37156410890426234\n",
      "Average Precision: 0.27005183222574525\n",
      "Average Recall: 0.8116666666666668\n",
      "Average Training Time (seconds): 0.4952423095703125\n"
     ]
    }
   ],
   "source": [
    "# Initialize CatBoost classifier\n",
    "catboost_model = CatBoostClassifier(**params)\n",
    "\n",
    "# Train the model using KFold cross-validation\n",
    "accuracies = []\n",
    "precisions = []\n",
    "recalls = []\n",
    "f1_scores = []\n",
    "training_times = []\n",
    "\n",
    "for train_index, val_index in k_fold.split(x_train):\n",
    "    X_train_fold, X_val_fold = x_train.iloc[train_index], x_train.iloc[val_index]\n",
    "    y_train_fold, y_val_fold = y_train.iloc[train_index], y_train.iloc[val_index]\n",
    "    \n",
    "    # Record start time\n",
    "    start_time = time.time()\n",
    "    \n",
    "    # Fit the model\n",
    "    catboost_model.fit(X_train_fold, y_train_fold, eval_set=(X_val_fold, y_val_fold), verbose=False)\n",
    "    \n",
    "    # Record end time\n",
    "    end_time = time.time()\n",
    "    \n",
    "    # Calculate training time\n",
    "    training_time = end_time - start_time\n",
    "    training_times.append(training_time)\n",
    "    \n",
    "    # Predict on validation set\n",
    "    y_pred = catboost_model.predict(X_val_fold)\n",
    "    \n",
    "    # Calculate metrics\n",
    "    accuracy = accuracy_score(y_val_fold, y_pred)\n",
    "    precision = precision_score(y_val_fold, y_pred, zero_division=0)\n",
    "    recall = recall_score(y_val_fold, y_pred, zero_division=0)\n",
    "    f1 = f1_score(y_val_fold, y_pred, zero_division=0)\n",
    "    \n",
    "    accuracies.append(accuracy)\n",
    "    precisions.append(precision)\n",
    "    recalls.append(recall)\n",
    "    f1_scores.append(f1)\n",
    "\n",
    "# Calculate and print average metrics\n",
    "avg_accuracy = sum(accuracies) / len(accuracies)\n",
    "avg_precision = sum(precisions) / len(precisions)\n",
    "avg_recall = sum(recalls) / len(recalls)\n",
    "avg_f1_score = sum(f1_scores) / len(f1_scores)\n",
    "\n",
    "# Calculate average training time\n",
    "avg_training_time = sum(training_times) / len(training_times)\n",
    "\n",
    "print(\"Average Accuracy:\", avg_accuracy)\n",
    "print(\"Average F1 Score:\", avg_f1_score)\n",
    "print(\"Average Precision:\", avg_precision)\n",
    "print(\"Average Recall:\", avg_recall)\n",
    "print(\"Average Training Time (seconds):\", avg_training_time)\n"
   ]
  }
 ],
 "metadata": {
  "kernelspec": {
   "display_name": "Python (geospatial)",
   "language": "python",
   "name": "geospatial"
  },
  "language_info": {
   "codemirror_mode": {
    "name": "ipython",
    "version": 3
   },
   "file_extension": ".py",
   "mimetype": "text/x-python",
   "name": "python",
   "nbconvert_exporter": "python",
   "pygments_lexer": "ipython3",
   "version": "3.8.18"
  }
 },
 "nbformat": 4,
 "nbformat_minor": 2
}
