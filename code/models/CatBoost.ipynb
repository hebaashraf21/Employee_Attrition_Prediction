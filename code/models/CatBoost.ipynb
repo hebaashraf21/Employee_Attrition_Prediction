{
 "cells": [
  {
   "cell_type": "code",
   "execution_count": 24,
   "metadata": {},
   "outputs": [],
   "source": [
    "import pandas as pd\n",
    "import os\n",
    "from sklearn.model_selection import KFold\n",
    "from catboost import CatBoostClassifier\n",
    "from sklearn.metrics import accuracy_score, f1_score, precision_score, recall_score\n",
    "import numpy as np"
   ]
  },
  {
   "cell_type": "markdown",
   "metadata": {},
   "source": [
    "**Loading The Data**"
   ]
  },
  {
   "cell_type": "code",
   "execution_count": 11,
   "metadata": {},
   "outputs": [],
   "source": [
    "current_dir = os.getcwd() \n",
    "relative_path = os.path.join('..', '..','data', 'train.csv')\n",
    "train_data = pd.read_csv(os.path.join(current_dir, relative_path))"
   ]
  },
  {
   "cell_type": "code",
   "execution_count": 12,
   "metadata": {},
   "outputs": [],
   "source": [
    "relative_path = os.path.join('..', '..','data', 'test.csv')\n",
    "test_data = pd.read_csv(os.path.join(current_dir, relative_path))"
   ]
  },
  {
   "cell_type": "code",
   "execution_count": 13,
   "metadata": {},
   "outputs": [],
   "source": [
    "x_train = train_data.drop([\"Attrition\"], axis = 1)\n",
    "y_train = train_data[\"Attrition\"]\n",
    "\n",
    "x_test = test_data.drop([\"Attrition\"], axis = 1)\n",
    "y_test = test_data[\"Attrition\"]\n",
    "\n",
    "k_fold = KFold(n_splits=10, shuffle=True, random_state=42)"
   ]
  },
  {
   "cell_type": "markdown",
   "metadata": {},
   "source": [
    "**Trying Different Learning Rates**"
   ]
  },
  {
   "cell_type": "markdown",
   "metadata": {},
   "source": [
    "for learning rate = 0.1"
   ]
  },
  {
   "cell_type": "code",
   "execution_count": 36,
   "metadata": {},
   "outputs": [],
   "source": [
    "# Define CatBoost parameters\n",
    "params = {\n",
    "    'learning_rate': 0.1,               # Learning Rate\n",
    "    'n_estimators': 100,                # Number of Trees\n",
    "    'max_depth': 6,                     # Depth of Trees\n",
    "    'l2_leaf_reg': 3,                   # Regularization Parameter: L2 regularization\n",
    "    'min_child_samples': 5,             # Regularization Parameter: Minimum number of samples required to split a node\n",
    "    'subsample': 0.8,                   # Subsampling\n",
    "    'loss_function': 'Logloss',         # Objective Function\n",
    "    'eval_metric': 'Accuracy',                # Evaluation Metric\n",
    "    'border_count': 128,                 # Gradient Estimation\n",
    "    'class_weights': [1, 5]  # Adjust class weights because of unbalanced classes\n",
    "}"
   ]
  },
  {
   "cell_type": "code",
   "execution_count": 37,
   "metadata": {},
   "outputs": [
    {
     "name": "stdout",
     "output_type": "stream",
     "text": [
      "Average Accuracy: 0.793103448275862\n",
      "Average F1 Score: 0.5559499082900619\n",
      "Average Precision: 0.4786538461538462\n",
      "Average Recall: 0.8633333333333333\n"
     ]
    }
   ],
   "source": [
    "# Initialize CatBoost classifier\n",
    "catboost_model = CatBoostClassifier(**params)\n",
    "\n",
    "# Train the model using KFold cross-validation\n",
    "accuracies = []\n",
    "precisions = []\n",
    "recalls = []\n",
    "f1_scores = []\n",
    "\n",
    "for train_index, val_index in k_fold.split(x_train):\n",
    "    X_train_fold, X_val_fold = x_train.iloc[train_index], x_train.iloc[val_index]\n",
    "    y_train_fold, y_val_fold = y_train.iloc[train_index], y_train.iloc[val_index]\n",
    "    \n",
    "    # Fit the model\n",
    "    catboost_model.fit(X_train_fold, y_train_fold, eval_set=(X_val_fold, y_val_fold), verbose=False)\n",
    "    \n",
    "    # Predict on validation set\n",
    "    y_pred = catboost_model.predict(X_val_fold)\n",
    "    \n",
    "    # Calculate metrics\n",
    "    accuracy = accuracy_score(y_val_fold, y_pred)\n",
    "    precision = precision_score(y_val_fold, y_pred, zero_division=0)\n",
    "    recall = recall_score(y_val_fold, y_pred, zero_division=0)\n",
    "    f1 = f1_score(y_val_fold, y_pred, zero_division=0)\n",
    "    \n",
    "    accuracies.append(accuracy)\n",
    "    precisions.append(precision)\n",
    "    recalls.append(recall)\n",
    "    f1_scores.append(f1)\n",
    "\n",
    "# Calculate and print average metrics\n",
    "avg_accuracy = sum(accuracies) / len(accuracies)\n",
    "avg_precision = sum(precisions) / len(precisions)\n",
    "avg_recall = sum(recalls) / len(recalls)\n",
    "avg_f1_score = sum(f1_scores) / len(f1_scores)\n",
    "\n",
    "print(\"Average Accuracy:\", avg_accuracy)\n",
    "print(\"Average F1 Score:\", avg_f1_score)\n",
    "print(\"Average Precision:\", avg_precision)\n",
    "print(\"Average Recall:\", avg_recall)"
   ]
  },
  {
   "cell_type": "code",
   "execution_count": 30,
   "metadata": {},
   "outputs": [
    {
     "name": "stdout",
     "output_type": "stream",
     "text": [
      "Average Accuracy: 0.8636781609195403\n",
      "Average F1 Score: 0.1019047619047619\n",
      "Average Precision: 0.18333333333333332\n",
      "Average Recall: 0.07833333333333334\n"
     ]
    }
   ],
   "source": [
    "# Initialize lists to store evaluation metric scores\n",
    "accuracy_scores = []\n",
    "f1_scores = []\n",
    "precision_scores = []\n",
    "recall_scores = []\n",
    "\n",
    "# Train the model using KFold cross-validation\n",
    "for train_index, val_index in k_fold.split(x_train):\n",
    "    X_train_fold, X_val_fold = x_train.iloc[train_index], x_train.iloc[val_index]\n",
    "    y_train_fold, y_val_fold = y_train.iloc[train_index], y_train.iloc[val_index]\n",
    "    \n",
    "    # Initialize CatBoost classifier\n",
    "    catboost_model = CatBoostClassifier(**params)\n",
    "    \n",
    "    # Fit the model\n",
    "    catboost_model.fit(X_train_fold, y_train_fold, eval_set=(X_val_fold, y_val_fold), verbose=False)\n",
    "    \n",
    "    # Predict on validation set\n",
    "    y_pred = catboost_model.predict(X_val_fold)\n",
    "    \n",
    "    # Calculate evaluation metrics\n",
    "    accuracy = accuracy_score(y_val_fold, y_pred)\n",
    "    f1 = f1_score(y_val_fold, y_pred, zero_division=0)\n",
    "    precision = precision_score(y_val_fold, y_pred, zero_division=0)\n",
    "    recall = recall_score(y_val_fold, y_pred, zero_division=0)\n",
    "    \n",
    "    # Append scores to lists\n",
    "    accuracy_scores.append(accuracy)\n",
    "    f1_scores.append(f1)\n",
    "    precision_scores.append(precision)\n",
    "    recall_scores.append(recall)\n",
    "\n",
    "# Calculate average scores\n",
    "avg_accuracy = np.mean(accuracy_scores)\n",
    "avg_f1 = np.mean(f1_scores)\n",
    "avg_precision = np.mean(precision_scores)\n",
    "avg_recall = np.mean(recall_scores)\n",
    "\n",
    "# Print average scores\n",
    "print(\"Average Accuracy:\", avg_accuracy)\n",
    "print(\"Average F1 Score:\", avg_f1)\n",
    "print(\"Average Precision:\", avg_precision)\n",
    "print(\"Average Recall:\", avg_recall)"
   ]
  }
 ],
 "metadata": {
  "kernelspec": {
   "display_name": "Python (geospatial)",
   "language": "python",
   "name": "geospatial"
  },
  "language_info": {
   "codemirror_mode": {
    "name": "ipython",
    "version": 3
   },
   "file_extension": ".py",
   "mimetype": "text/x-python",
   "name": "python",
   "nbconvert_exporter": "python",
   "pygments_lexer": "ipython3",
   "version": "3.8.18"
  }
 },
 "nbformat": 4,
 "nbformat_minor": 2
}
