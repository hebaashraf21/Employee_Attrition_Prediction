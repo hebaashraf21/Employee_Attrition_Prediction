{
  "cells": [
    {
      "cell_type": "code",
      "execution_count": 1,
      "metadata": {
        "id": "JBgeU-jJ6P0O"
      },
      "outputs": [],
      "source": [
        "import pandas as pd\n",
        "import os\n",
        "from sklearn.model_selection import ParameterGrid, train_test_split, learning_curve\n",
        "from sklearn.metrics import accuracy_score, f1_score\n",
        "from sklearn.model_selection import KFold\n",
        "from sklearn.metrics import classification_report, confusion_matrix\n",
        "from sklearn.metrics import confusion_matrix\n",
        "import matplotlib.pyplot as plt\n",
        "from sklearn.linear_model import LogisticRegression\n",
        "from sklearn.metrics import accuracy_score\n",
        "from sklearn.preprocessing import OneHotEncoder\n",
        "import numpy as np\n",
        "import seaborn as sns\n",
        "from sklearn.model_selection import GridSearchCV\n",
        "from sklearn.preprocessing import StandardScaler\n",
        "import warnings\n",
        "from sklearn.metrics import classification_report\n",
        "from tabulate import tabulate\n",
        "import matplotlib.pyplot as plt"
      ]
    },
    {
      "cell_type": "code",
      "execution_count": 2,
      "metadata": {
        "id": "E9dsku_q6P0T"
      },
      "outputs": [],
      "source": [
        "current_dir = os.getcwd()\n",
        "relative_path = os.path.join('..','..', 'data', 'x_train.csv')\n",
        "x_train=pd.read_csv(os.path.join(current_dir, relative_path))\n",
        "relative_path = os.path.join('..','..', 'data', 'y_train.csv')\n",
        "y_train=pd.read_csv(os.path.join(current_dir, relative_path))\n",
        "\n",
        "relative_path = os.path.join('..','..', 'data', 'x_val.csv')\n",
        "x_val=pd.read_csv(os.path.join(current_dir, relative_path))\n",
        "relative_path = os.path.join('..','..', 'data', 'y_val.csv')\n",
        "y_val=pd.read_csv(os.path.join(current_dir, relative_path))\n",
        "\n",
        "relative_path = os.path.join('..','..', 'data', 'x_test.csv')\n",
        "x_test=pd.read_csv(os.path.join(current_dir, relative_path))\n",
        "relative_path = os.path.join('..','..', 'data', 'y_test.csv')\n",
        "y_test=pd.read_csv(os.path.join(current_dir, relative_path))"
      ]
    },
    {
      "cell_type": "code",
      "execution_count": 3,
      "metadata": {
        "colab": {
          "base_uri": "https://localhost:8080/"
        },
        "id": "-jzi0EY86P0Z",
        "outputId": "d504114c-f48c-4591-badb-df0a78d637aa"
      },
      "outputs": [
        {
          "name": "stdout",
          "output_type": "stream",
          "text": [
            "Best Parameters: {'C': 1.0, 'max_iter': 100, 'solver': 'sag'}\n"
          ]
        }
      ],
      "source": [
        "warnings.filterwarnings(\"ignore\")\n",
        "# Define the parameter grid\n",
        "param_grid = {\n",
        "    'C': [0.1, 1.0, 10.0],           # Regularization parameter\n",
        "    'max_iter': [100, 200, 300, 400, 500],  # Maximum number of iterations\n",
        "    # suitable for sparse data (data is sparse because of encoding text)\n",
        "    'solver': ['sag', 'saga']        # Solver for optimization\n",
        "}\n",
        "\n",
        "\n",
        "# Initialize logistic regression model\n",
        "logistic_regression = LogisticRegression()\n",
        "\n",
        "# Perform grid search\n",
        "grid_search = GridSearchCV(estimator=logistic_regression, param_grid=param_grid, cv=5, scoring='accuracy')\n",
        "grid_search.fit(x_train, y_train)\n",
        "\n",
        "# Get the best logistic regression model\n",
        "best_logistic_regression = grid_search.best_estimator_\n",
        "# Get the best parameters\n",
        "best_params = grid_search.best_params_\n",
        "\n",
        "print(\"Best Parameters:\", best_params)"
      ]
    },
    {
      "cell_type": "code",
      "execution_count": 4,
      "metadata": {
        "colab": {
          "base_uri": "https://localhost:8080/"
        },
        "id": "eSM5ZbeJ8g3X",
        "outputId": "e6f3f992-0151-4bc6-ab50-130ee6e1c031"
      },
      "outputs": [
        {
          "name": "stdout",
          "output_type": "stream",
          "text": [
            "Best C: 1.0\n",
            "Best Max Iterations: 100\n",
            "Best solver: sag\n"
          ]
        }
      ],
      "source": [
        "base_c = best_params['C']\n",
        "solver = best_params['solver']\n",
        "max_iter = best_params['max_iter']\n",
        "print(f'Best C: {base_c}')\n",
        "print(f'Best Max Iterations: {max_iter}')\n",
        "print(f'Best solver: {solver}')"
      ]
    },
    {
      "cell_type": "markdown",
      "metadata": {
        "id": "u7TuuEgS9aH0"
      },
      "source": [
        "Get The Training Accuracy"
      ]
    },
    {
      "cell_type": "code",
      "execution_count": 5,
      "metadata": {
        "colab": {
          "base_uri": "https://localhost:8080/"
        },
        "id": "kS3HXXLj9cml",
        "outputId": "0295c611-01c8-4e61-f723-c5c0065368b1"
      },
      "outputs": [
        {
          "name": "stdout",
          "output_type": "stream",
          "text": [
            "Training Accuracy: 0.8638297872340426\n",
            "Training Weighted F1-score: 0.8339308383689636\n"
          ]
        }
      ],
      "source": [
        "# Predict on the training set\n",
        "y_train_pred = best_logistic_regression.predict(x_train)\n",
        "\n",
        "# Calculate training accuracy (in-sample error)\n",
        "training_accuracy = accuracy_score(y_train, y_train_pred)\n",
        "\n",
        "print(\"Training Accuracy:\", training_accuracy)\n",
        "\n",
        "weighted_f1 = f1_score(y_train, y_train_pred, average='weighted')\n",
        "\n",
        "print(\"Training Weighted F1-score:\", weighted_f1)"
      ]
    },
    {
      "cell_type": "markdown",
      "metadata": {
        "id": "AShuOehW9jWx"
      },
      "source": [
        "Get The Validation Accuracy"
      ]
    },
    {
      "cell_type": "code",
      "execution_count": 6,
      "metadata": {
        "colab": {
          "base_uri": "https://localhost:8080/"
        },
        "id": "YUY5chTu9iNM",
        "outputId": "eba60815-fcc1-4767-cdec-336e1dc9fa21"
      },
      "outputs": [
        {
          "name": "stdout",
          "output_type": "stream",
          "text": [
            "Validation Accuracy: 0.8601694915254238\n",
            "Test Weighted F1-score: 0.834821243569327\n"
          ]
        }
      ],
      "source": [
        "# Predict on the validation set\n",
        "y_val_pred = best_logistic_regression.predict(x_val)\n",
        "\n",
        "val_accuracy = best_logistic_regression.score(x_val, y_val)\n",
        "print(\"Validation Accuracy:\", val_accuracy)\n",
        "\n",
        "weighted_f1 = f1_score(y_val, y_val_pred, average='weighted')\n",
        "\n",
        "print(\"Test Weighted F1-score:\", weighted_f1)"
      ]
    },
    {
      "cell_type": "markdown",
      "metadata": {
        "id": "tutWddGo9qL2"
      },
      "source": [
        "Classification report"
      ]
    },
    {
      "cell_type": "code",
      "execution_count": 7,
      "metadata": {
        "colab": {
          "base_uri": "https://localhost:8080/"
        },
        "id": "jtahIfHJ9tFx",
        "outputId": "d9d719be-2bbc-4558-88bb-8d66a00d0630"
      },
      "outputs": [
        {
          "name": "stdout",
          "output_type": "stream",
          "text": [
            "Classification Report for Validation Set:\n",
            "              precision    recall  f1-score   support\n",
            "\n",
            "     Class 0       0.86      0.98      0.92       191\n",
            "     Class 1       0.83      0.33      0.48        45\n",
            "\n",
            "    accuracy                           0.86       236\n",
            "   macro avg       0.85      0.66      0.70       236\n",
            "weighted avg       0.86      0.86      0.83       236\n",
            "\n"
          ]
        }
      ],
      "source": [
        "# Predict on validation set\n",
        "y_val_pred = best_logistic_regression.predict(x_val)\n",
        "\n",
        "# Calculate precision, recall, and F1-score\n",
        "report = classification_report(y_val, y_val_pred, target_names=['Class 0', 'Class 1'])\n",
        "\n",
        "# Print the classification report\n",
        "print(\"Classification Report for Validation Set:\")\n",
        "print(report)"
      ]
    },
    {
      "cell_type": "markdown",
      "metadata": {
        "id": "Q-dA-GIY9x9K"
      },
      "source": [
        "Confusion Matrix"
      ]
    },
    {
      "cell_type": "code",
      "execution_count": 8,
      "metadata": {
        "colab": {
          "base_uri": "https://localhost:8080/",
          "height": 564
        },
        "id": "-8B9YQll9zVp",
        "outputId": "3e88ce7c-5f06-4e95-a710-509e333bcd90"
      },
      "outputs": [
        {
          "data": {
            "image/png": "[encoded data removed]",
            "text/plain": [
              "<Figure size 576x432 with 2 Axes>"
            ]
          },
          "metadata": {
            "needs_background": "light"
          },
          "output_type": "display_data"
        }
      ],
      "source": [
        "# Calculate confusion matrix\n",
        "cm = confusion_matrix(y_val, y_val_pred)\n",
        "\n",
        "# Plot confusion matrix\n",
        "plt.figure(figsize=(8, 6))\n",
        "sns.heatmap(cm, annot=True, fmt='d', cmap='Blues', xticklabels=['Class 0', 'Class 1'], yticklabels=['Class 0', 'Class 1'])\n",
        "plt.title('Confusion Matrix for Validation Set')\n",
        "plt.xlabel('Predicted Label')\n",
        "plt.ylabel('True Label')\n",
        "plt.show()"
      ]
    },
    {
      "cell_type": "markdown",
      "metadata": {
        "id": "9N0ozB_6-DZI"
      },
      "source": [
        "Plot Learning Curve with scores"
      ]
    },
    {
      "cell_type": "code",
      "execution_count": 9,
      "metadata": {
        "colab": {
          "base_uri": "https://localhost:8080/",
          "height": 472
        },
        "id": "_VGevwQj-EIg",
        "outputId": "2e629060-6526-4ee0-8724-c0e9f9ac2c88"
      },
      "outputs": [
        {
          "data": {
            "image/png": "[encoded data removed]",
            "text/plain": [
              "<Figure size 432x288 with 1 Axes>"
            ]
          },
          "metadata": {
            "needs_background": "light"
          },
          "output_type": "display_data"
        }
      ],
      "source": [
        "warnings.filterwarnings(\"ignore\")\n",
        "def plot_learning_curve(estimator, title, X, y, ylim=None, cv=None, n_jobs=None, train_sizes=np.linspace(.1, 1.0, 5)):\n",
        "    \"\"\"\n",
        "    Generate a simple plot of the test and training learning curve.\n",
        "    \"\"\"\n",
        "    plt.figure()\n",
        "    plt.title(title)\n",
        "    if ylim is not None:\n",
        "        plt.ylim(*ylim)\n",
        "    plt.xlabel(\"Training examples\")\n",
        "    plt.ylabel(\"Score\")\n",
        "    train_sizes, train_scores, test_scores = learning_curve(\n",
        "        estimator, X, y, cv=cv, n_jobs=n_jobs, train_sizes=train_sizes)\n",
        "    train_scores_mean = np.mean(train_scores, axis=1)\n",
        "    train_scores_std = np.std(train_scores, axis=1)\n",
        "    test_scores_mean = np.mean(test_scores, axis=1)\n",
        "    test_scores_std = np.std(test_scores, axis=1)\n",
        "\n",
        "    plt.grid()\n",
        "\n",
        "    plt.fill_between(train_sizes, train_scores_mean - train_scores_std,\n",
        "                     train_scores_mean + train_scores_std, alpha=0.1,\n",
        "                     color=\"r\")\n",
        "    plt.fill_between(train_sizes, test_scores_mean - test_scores_std,\n",
        "                     test_scores_mean + test_scores_std, alpha=0.1, color=\"g\")\n",
        "    plt.plot(train_sizes, train_scores_mean, 'o-', color=\"r\",\n",
        "             label=\"Training score\")\n",
        "    plt.plot(train_sizes, test_scores_mean, 'o-', color=\"g\",\n",
        "             label=\"Cross-validation score\")\n",
        "\n",
        "    plt.legend(loc=\"best\")\n",
        "    return plt\n",
        "\n",
        "X = np.concatenate((x_train, x_val), axis=0)\n",
        "y = np.concatenate((y_train, y_val), axis=0)\n",
        "\n",
        "# Plot learning curve\n",
        "plot_learning_curve(best_logistic_regression, \"Learning Curve\", X, y, cv=5)\n",
        "plt.show()"
      ]
    },
    {
      "cell_type": "code",
      "execution_count": 10,
      "metadata": {
        "colab": {
          "base_uri": "https://localhost:8080/",
          "height": 163
        },
        "id": "UhKryHgfAjdW",
        "outputId": "6595c3fa-e438-4d80-dffb-07b996c49313"
      },
      "outputs": [
        {
          "data": {
            "text/plain": [
              "\"\\nThe decreasing training score suggests that as more training examples are provided, the model is exposed to a wider variety of instances and is learning to generalize better.\\nThis is a positive sign as it indicates that the model is not memorizing the training data but rather learning meaningful patterns.\\n\\nThe increasing validation score indicates that the model's performance on unseen data is improving as more training examples are provided.\\nThis suggests that the model is generalizing well to new instances and is not overfitting to the training data.\\n\\nThe small gap between the training and validation scores suggests that the model is not suffering from significant overfitting.\\nThe fact that both scores are increasing with a small gap indicates that the model is learning to generalize well to unseen data without excessively fitting to the training data.\\n\""
            ]
          },
          "execution_count": 10,
          "metadata": {},
          "output_type": "execute_result"
        }
      ],
      "source": [
        "'''\n",
        "The decreasing training score suggests that as more training examples are provided, the model is exposed to a wider variety of instances and is learning to generalize better.\n",
        "This is a positive sign as it indicates that the model is not memorizing the training data but rather learning meaningful patterns.\n",
        "\n",
        "The increasing validation score indicates that the model's performance on unseen data is improving as more training examples are provided.\n",
        "This suggests that the model is generalizing well to new instances and is not overfitting to the training data.\n",
        "\n",
        "The small gap between the training and validation scores suggests that the model is not suffering from significant overfitting.\n",
        "The fact that both scores are increasing with a small gap indicates that the model is learning to generalize well to unseen data without excessively fitting to the training data.\n",
        "'''"
      ]
    },
    {
      "cell_type": "markdown",
      "metadata": {
        "id": "0Epg0hCJAU45"
      },
      "source": [
        "Plot Learning Curve with errors"
      ]
    },
    {
      "cell_type": "code",
      "execution_count": 11,
      "metadata": {
        "colab": {
          "base_uri": "https://localhost:8080/",
          "height": 472
        },
        "id": "waVftDh8AWfw",
        "outputId": "0f604885-b29f-4bcf-ef9b-f807855d1408"
      },
      "outputs": [
        {
          "data": {
            "image/png": "[encoded data removed]",
            "text/plain": [
              "<Figure size 432x288 with 1 Axes>"
            ]
          },
          "metadata": {
            "needs_background": "light"
          },
          "output_type": "display_data"
        }
      ],
      "source": [
        "warnings.filterwarnings(\"ignore\")\n",
        "def plot_learning_curve(estimator, title, X, y, ylim=None, cv=None, n_jobs=None, train_sizes=np.linspace(.1, 1.0, 5)):\n",
        "    \"\"\"\n",
        "    Generate a simple plot of the training and validation learning curve.\n",
        "    \"\"\"\n",
        "    plt.figure()\n",
        "    plt.title(title)\n",
        "    if ylim is not None:\n",
        "        plt.ylim(*ylim)\n",
        "    plt.xlabel(\"Training examples\")\n",
        "    plt.ylabel(\"Error\")\n",
        "    train_sizes, train_scores, test_scores = learning_curve(\n",
        "        estimator, X, y, cv=cv, n_jobs=n_jobs, train_sizes=train_sizes, scoring='neg_mean_squared_error')\n",
        "    train_errors_mean = -np.mean(train_scores, axis=1)\n",
        "    train_errors_std = np.std(train_scores, axis=1)\n",
        "    test_errors_mean = -np.mean(test_scores, axis=1)\n",
        "    test_errors_std = np.std(test_scores, axis=1)\n",
        "\n",
        "    plt.grid()\n",
        "\n",
        "    plt.fill_between(train_sizes, train_errors_mean - train_errors_std,\n",
        "                     train_errors_mean + train_errors_std, alpha=0.1,\n",
        "                     color=\"r\")\n",
        "    plt.fill_between(train_sizes, test_errors_mean - test_errors_std,\n",
        "                     test_errors_mean + test_errors_std, alpha=0.1, color=\"g\")\n",
        "    plt.plot(train_sizes, train_errors_mean, 'o-', color=\"r\",\n",
        "             label=\"Training error\")\n",
        "    plt.plot(train_sizes, test_errors_mean, 'o-', color=\"g\",\n",
        "             label=\"Validation error\")\n",
        "\n",
        "    plt.legend(loc=\"best\")\n",
        "    return plt\n",
        "\n",
        "X = np.concatenate((x_train, x_val), axis=0)\n",
        "y = np.concatenate((y_train, y_val), axis=0)\n",
        "\n",
        "# Plot learning curve\n",
        "plot_learning_curve(best_logistic_regression, \"Learning Curve\", X, y, cv=5)\n",
        "plt.show()"
      ]
    },
    {
      "cell_type": "markdown",
      "metadata": {
        "id": "cWrRXyG8AuSq"
      },
      "source": [
        "Train over all the data (training + validation)"
      ]
    },
    {
      "cell_type": "code",
      "execution_count": 12,
      "metadata": {
        "id": "4salyn8IAvJO"
      },
      "outputs": [],
      "source": [
        "new_x_data = np.concatenate((x_train, x_val), axis=0)\n",
        "new_y_data = np.concatenate((y_train, y_val), axis=0)"
      ]
    },
    {
      "cell_type": "code",
      "execution_count": 13,
      "metadata": {
        "colab": {
          "base_uri": "https://localhost:8080/",
          "height": 74
        },
        "id": "l7yFx4tSAyjT",
        "outputId": "f9754cfd-93e3-4486-d140-1f4aa73fa0b0"
      },
      "outputs": [
        {
          "data": {
            "text/plain": [
              "LogisticRegression(solver='sag')"
            ]
          },
          "execution_count": 13,
          "metadata": {},
          "output_type": "execute_result"
        }
      ],
      "source": [
        "# Fit the model on the new data\n",
        "best_logistic_regression.fit(new_x_data, new_y_data)"
      ]
    },
    {
      "cell_type": "markdown",
      "metadata": {
        "id": "SYFsHGifA4OO"
      },
      "source": [
        "Get The Testing Accuracy"
      ]
    },
    {
      "cell_type": "code",
      "execution_count": 14,
      "metadata": {
        "colab": {
          "base_uri": "https://localhost:8080/"
        },
        "id": "pskOfmiJA39u",
        "outputId": "f1b3fb39-69bb-47bf-b030-b6e9b8788603"
      },
      "outputs": [
        {
          "name": "stdout",
          "output_type": "stream",
          "text": [
            "Accuracy on Test Set: 0.891156462585034\n",
            "Validation Weighted F1-score: 0.8665854401462078\n"
          ]
        }
      ],
      "source": [
        "warnings.filterwarnings(\"ignore\")\n",
        "# Predict on the test set\n",
        "y_test_pred = best_logistic_regression.predict(x_test)\n",
        "\n",
        "# Calculate accuracy on the test set\n",
        "accuracy_test = accuracy_score(y_test, y_test_pred)\n",
        "\n",
        "print(\"Accuracy on Test Set:\", accuracy_test)\n",
        "\n",
        "weighted_f1 = f1_score(y_test, y_test_pred, average='weighted')\n",
        "\n",
        "print(\"Validation Weighted F1-score:\", weighted_f1)"
      ]
    },
    {
      "cell_type": "code",
      "execution_count": 15,
      "metadata": {
        "colab": {
          "base_uri": "https://localhost:8080/"
        },
        "id": "0U9eU0YuA-9Y",
        "outputId": "e1c9a952-e326-4f9e-9bf6-dc38970c70e9"
      },
      "outputs": [
        {
          "name": "stdout",
          "output_type": "stream",
          "text": [
            "Classification Report for Test Set:\n",
            "              precision    recall  f1-score   support\n",
            "\n",
            "     Class 0       0.90      0.99      0.94       255\n",
            "     Class 1       0.77      0.26      0.38        39\n",
            "\n",
            "    accuracy                           0.89       294\n",
            "   macro avg       0.83      0.62      0.66       294\n",
            "weighted avg       0.88      0.89      0.87       294\n",
            "\n"
          ]
        }
      ],
      "source": [
        "# Calculate precision, recall, and F1-score\n",
        "report = classification_report(y_test, y_test_pred, target_names=['Class 0', 'Class 1'])\n",
        "\n",
        "# Print the classification report\n",
        "print(\"Classification Report for Test Set:\")\n",
        "print(report)"
      ]
    },
    {
      "cell_type": "code",
      "execution_count": 16,
      "metadata": {
        "colab": {
          "base_uri": "https://localhost:8080/",
          "height": 564
        },
        "id": "334FNxIXBBiW",
        "outputId": "3901c68a-e8ba-4225-99a3-ddb1cb8eb71a"
      },
      "outputs": [
        {
          "data": {
            "image/png": "[encoded data removed]",
            "text/plain": [
              "<Figure size 576x432 with 2 Axes>"
            ]
          },
          "metadata": {
            "needs_background": "light"
          },
          "output_type": "display_data"
        }
      ],
      "source": [
        "# Calculate confusion matrix\n",
        "cm = confusion_matrix(y_test, y_test_pred)\n",
        "\n",
        "# Plot confusion matrix\n",
        "plt.figure(figsize=(8, 6))\n",
        "sns.heatmap(cm, annot=True, fmt='d', cmap='Blues', xticklabels=['Class 0', 'Class 1'], yticklabels=['Class 0', 'Class 1'])\n",
        "plt.title('Confusion Matrix for Test Set')\n",
        "plt.xlabel('Predicted Label')\n",
        "plt.ylabel('True Label')\n",
        "plt.show()"
      ]
    }
  ],
  "metadata": {
    "accelerator": "GPU",
    "colab": {
      "gpuType": "T4",
      "provenance": []
    },
    "kernelspec": {
      "display_name": "Python 3",
      "name": "python3"
    },
    "language_info": {
      "codemirror_mode": {
        "name": "ipython",
        "version": 3
      },
      "file_extension": ".py",
      "mimetype": "text/x-python",
      "name": "python",
      "nbconvert_exporter": "python",
      "pygments_lexer": "ipython3",
      "version": "3.9.12"
    }
  },
  "nbformat": 4,
  "nbformat_minor": 0
}
