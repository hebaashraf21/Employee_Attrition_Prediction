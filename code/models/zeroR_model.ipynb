{
 "cells": [
  {
   "cell_type": "code",
   "execution_count": 3,
   "metadata": {},
   "outputs": [],
   "source": [
    "import os\n",
    "import pandas as pd\n",
    "from sklearn.dummy import DummyClassifier\n",
    "from sklearn.metrics import accuracy_score, f1_score"
   ]
  },
  {
   "cell_type": "markdown",
   "metadata": {},
   "source": [
    "**Load The Data**"
   ]
  },
  {
   "cell_type": "code",
   "execution_count": 2,
   "metadata": {},
   "outputs": [],
   "source": [
    "current_dir = os.getcwd() \n",
    "relative_path = os.path.join('..','..', 'data', 'x_train.csv')\n",
    "x_train=pd.read_csv(os.path.join(current_dir, relative_path))\n",
    "relative_path = os.path.join('..','..', 'data', 'y_train.csv')\n",
    "y_train=pd.read_csv(os.path.join(current_dir, relative_path))\n",
    "\n",
    "relative_path = os.path.join('..','..', 'data', 'x_val.csv')\n",
    "x_val=pd.read_csv(os.path.join(current_dir, relative_path))\n",
    "relative_path = os.path.join('..','..', 'data', 'y_val.csv')\n",
    "y_val=pd.read_csv(os.path.join(current_dir, relative_path))\n",
    "\n",
    "relative_path = os.path.join('..','..', 'data', 'x_test.csv')\n",
    "x_test=pd.read_csv(os.path.join(current_dir, relative_path))\n",
    "relative_path = os.path.join('..','..', 'data', 'y_test.csv')\n",
    "y_test=pd.read_csv(os.path.join(current_dir, relative_path))\n",
    "\n",
    "relative_path = os.path.join('..','..', 'data', 'x_train_smote.csv')\n",
    "x_train_smote=pd.read_csv(os.path.join(current_dir, relative_path))\n",
    "relative_path = os.path.join('..','..', 'data', 'y_train_smote.csv')\n",
    "y_train_smote=pd.read_csv(os.path.join(current_dir, relative_path))\n",
    "\n",
    "relative_path = os.path.join('..','..', 'data', 'x_train_ros.csv')\n",
    "x_train_ros=pd.read_csv(os.path.join(current_dir, relative_path))\n",
    "relative_path = os.path.join('..','..', 'data', 'y_train_ros.csv')\n",
    "y_train_ros=pd.read_csv(os.path.join(current_dir, relative_path))\n",
    "\n",
    "relative_path = os.path.join('..','..', 'data', 'x_train_rur.csv')\n",
    "x_train_rur=pd.read_csv(os.path.join(current_dir, relative_path))\n",
    "relative_path = os.path.join('..','..', 'data', 'y_train_rur.csv')\n",
    "y_train_rur=pd.read_csv(os.path.join(current_dir, relative_path))\n",
    "\n",
    "relative_path = os.path.join('..','..', 'data', 'x_train_smotetomek.csv')\n",
    "x_train_smotetomek=pd.read_csv(os.path.join(current_dir, relative_path))\n",
    "relative_path = os.path.join('..','..', 'data', 'y_train_smotetomek.csv')\n",
    "y_train_smotetomek=pd.read_csv(os.path.join(current_dir, relative_path))"
   ]
  },
  {
   "cell_type": "code",
   "execution_count": 5,
   "metadata": {},
   "outputs": [
    {
     "data": {
      "text/html": [
       "<div>\n",
       "<style scoped>\n",
       "    .dataframe tbody tr th:only-of-type {\n",
       "        vertical-align: middle;\n",
       "    }\n",
       "\n",
       "    .dataframe tbody tr th {\n",
       "        vertical-align: top;\n",
       "    }\n",
       "\n",
       "    .dataframe thead th {\n",
       "        text-align: right;\n",
       "    }\n",
       "</style>\n",
       "<table border=\"1\" class=\"dataframe\">\n",
       "  <thead>\n",
       "    <tr style=\"text-align: right;\">\n",
       "      <th></th>\n",
       "      <th>Attrition</th>\n",
       "    </tr>\n",
       "  </thead>\n",
       "  <tbody>\n",
       "    <tr>\n",
       "      <th>0</th>\n",
       "      <td>0</td>\n",
       "    </tr>\n",
       "    <tr>\n",
       "      <th>1</th>\n",
       "      <td>0</td>\n",
       "    </tr>\n",
       "    <tr>\n",
       "      <th>2</th>\n",
       "      <td>0</td>\n",
       "    </tr>\n",
       "    <tr>\n",
       "      <th>3</th>\n",
       "      <td>0</td>\n",
       "    </tr>\n",
       "    <tr>\n",
       "      <th>4</th>\n",
       "      <td>0</td>\n",
       "    </tr>\n",
       "    <tr>\n",
       "      <th>...</th>\n",
       "      <td>...</td>\n",
       "    </tr>\n",
       "    <tr>\n",
       "      <th>877</th>\n",
       "      <td>0</td>\n",
       "    </tr>\n",
       "    <tr>\n",
       "      <th>878</th>\n",
       "      <td>0</td>\n",
       "    </tr>\n",
       "    <tr>\n",
       "      <th>879</th>\n",
       "      <td>0</td>\n",
       "    </tr>\n",
       "    <tr>\n",
       "      <th>880</th>\n",
       "      <td>1</td>\n",
       "    </tr>\n",
       "    <tr>\n",
       "      <th>881</th>\n",
       "      <td>1</td>\n",
       "    </tr>\n",
       "  </tbody>\n",
       "</table>\n",
       "<p>882 rows × 1 columns</p>\n",
       "</div>"
      ],
      "text/plain": [
       "     Attrition\n",
       "0            0\n",
       "1            0\n",
       "2            0\n",
       "3            0\n",
       "4            0\n",
       "..         ...\n",
       "877          0\n",
       "878          0\n",
       "879          0\n",
       "880          1\n",
       "881          1\n",
       "\n",
       "[882 rows x 1 columns]"
      ]
     },
     "execution_count": 5,
     "metadata": {},
     "output_type": "execute_result"
    }
   ],
   "source": [
    "y_train"
   ]
  },
  {
   "cell_type": "markdown",
   "metadata": {},
   "source": [
    "**Baseline model (zeroR)**"
   ]
  },
  {
   "cell_type": "markdown",
   "metadata": {},
   "source": [
    "without resampling"
   ]
  },
  {
   "cell_type": "code",
   "execution_count": 6,
   "metadata": {},
   "outputs": [
    {
     "name": "stdout",
     "output_type": "stream",
     "text": [
      "Metrics for ZeroR model:\n",
      "Accuracy on training data: 0.8321995464852607\n",
      "F1-score on training data: 0.0\n",
      "Accuracy on validation data: 0.8299319727891157\n",
      "F1-score on validation data: 0.0\n",
      "Accuracy on test data: 0.8673469387755102\n",
      "F1-score on test data: 0.0\n"
     ]
    }
   ],
   "source": [
    "majority_class = y_train['Attrition'].value_counts().idxmax()\n",
    "\n",
    "# Create and fit the ZeroR model\n",
    "zeroR_model = DummyClassifier(strategy='constant', constant=majority_class)\n",
    "zeroR_model.fit(x_train, y_train)\n",
    "\n",
    "# Predict using the ZeroR model\n",
    "y_pred_train = zeroR_model.predict(x_train)\n",
    "y_pred_val = zeroR_model.predict(x_val)\n",
    "y_pred_test = zeroR_model.predict(x_test)\n",
    "\n",
    "# Evaluate the performance of ZeroR\n",
    "accuracy_train = accuracy_score(y_train, y_pred_train)\n",
    "accuracy_val = accuracy_score(y_val, y_pred_val)\n",
    "accuracy_test = accuracy_score(y_test, y_pred_test)\n",
    "\n",
    "f1_train = f1_score(y_train, y_pred_train, average='binary')\n",
    "f1_val = f1_score(y_val, y_pred_val, average='binary')\n",
    "f1_test = f1_score(y_test, y_pred_test, average='binary')\n",
    "\n",
    "print(\"Metrics for ZeroR model:\")\n",
    "print(\"Accuracy on training data:\", accuracy_train)\n",
    "print(\"F1-score on training data:\", f1_train)\n",
    "print(\"Accuracy on validation data:\", accuracy_val)\n",
    "print(\"F1-score on validation data:\", f1_val)\n",
    "print(\"Accuracy on test data:\", accuracy_test)\n",
    "print(\"F1-score on test data:\", f1_test)"
   ]
  },
  {
   "cell_type": "markdown",
   "metadata": {},
   "source": [
    "SMOTE"
   ]
  },
  {
   "cell_type": "code",
   "execution_count": 9,
   "metadata": {},
   "outputs": [
    {
     "name": "stdout",
     "output_type": "stream",
     "text": [
      "Metrics for ZeroR model:\n",
      "Accuracy on training data: 0.5\n",
      "F1-score on training data: 0.0\n",
      "Accuracy on validation data: 0.8299319727891157\n",
      "F1-score on validation data: 0.0\n",
      "Accuracy on test data: 0.8673469387755102\n",
      "F1-score on test data: 0.0\n"
     ]
    }
   ],
   "source": [
    "majority_class = y_train['Attrition'].value_counts().idxmax()\n",
    "\n",
    "# Create and fit the ZeroR model\n",
    "zeroR_model = DummyClassifier(strategy='constant', constant=majority_class)\n",
    "zeroR_model.fit(x_train_smote, y_train_smote)\n",
    "\n",
    "# Predict using the ZeroR model\n",
    "y_pred_train = zeroR_model.predict(x_train_smote)\n",
    "y_pred_val = zeroR_model.predict(x_val)\n",
    "y_pred_test = zeroR_model.predict(x_test)\n",
    "\n",
    "# Evaluate the performance of ZeroR\n",
    "accuracy_train = accuracy_score(y_train_smote, y_pred_train)\n",
    "accuracy_val = accuracy_score(y_val, y_pred_val)\n",
    "accuracy_test = accuracy_score(y_test, y_pred_test)\n",
    "\n",
    "f1_train = f1_score(y_train_smote, y_pred_train, average='binary')\n",
    "f1_val = f1_score(y_val, y_pred_val, average='binary')\n",
    "f1_test = f1_score(y_test, y_pred_test, average='binary')\n",
    "\n",
    "print(\"Metrics for ZeroR model:\")\n",
    "print(\"Accuracy on training data:\", accuracy_train)\n",
    "print(\"F1-score on training data:\", f1_train)\n",
    "print(\"Accuracy on validation data:\", accuracy_val)\n",
    "print(\"F1-score on validation data:\", f1_val)\n",
    "print(\"Accuracy on test data:\", accuracy_test)\n",
    "print(\"F1-score on test data:\", f1_test)"
   ]
  },
  {
   "cell_type": "markdown",
   "metadata": {},
   "source": [
    "RandomOverSampler"
   ]
  },
  {
   "cell_type": "code",
   "execution_count": 10,
   "metadata": {},
   "outputs": [
    {
     "name": "stdout",
     "output_type": "stream",
     "text": [
      "Metrics for ZeroR model:\n",
      "Accuracy on training data: 0.5\n",
      "F1-score on training data: 0.0\n",
      "Accuracy on validation data: 0.8299319727891157\n",
      "F1-score on validation data: 0.0\n",
      "Accuracy on test data: 0.8673469387755102\n",
      "F1-score on test data: 0.0\n"
     ]
    }
   ],
   "source": [
    "majority_class = y_train['Attrition'].value_counts().idxmax()\n",
    "\n",
    "# Create and fit the ZeroR model\n",
    "zeroR_model = DummyClassifier(strategy='constant', constant=majority_class)\n",
    "zeroR_model.fit(x_train_ros, y_train_ros)\n",
    "\n",
    "# Predict using the ZeroR model\n",
    "y_pred_train = zeroR_model.predict(x_train_ros)\n",
    "y_pred_val = zeroR_model.predict(x_val)\n",
    "y_pred_test = zeroR_model.predict(x_test)\n",
    "\n",
    "# Evaluate the performance of ZeroR\n",
    "accuracy_train = accuracy_score(y_train_ros, y_pred_train)\n",
    "accuracy_val = accuracy_score(y_val, y_pred_val)\n",
    "accuracy_test = accuracy_score(y_test, y_pred_test)\n",
    "\n",
    "f1_train = f1_score(y_train_ros, y_pred_train, average='binary')\n",
    "f1_val = f1_score(y_val, y_pred_val, average='binary')\n",
    "f1_test = f1_score(y_test, y_pred_test, average='binary')\n",
    "\n",
    "print(\"Metrics for ZeroR model:\")\n",
    "print(\"Accuracy on training data:\", accuracy_train)\n",
    "print(\"F1-score on training data:\", f1_train)\n",
    "print(\"Accuracy on validation data:\", accuracy_val)\n",
    "print(\"F1-score on validation data:\", f1_val)\n",
    "print(\"Accuracy on test data:\", accuracy_test)\n",
    "print(\"F1-score on test data:\", f1_test)"
   ]
  },
  {
   "cell_type": "markdown",
   "metadata": {},
   "source": [
    "SMOTETomek"
   ]
  },
  {
   "cell_type": "code",
   "execution_count": 11,
   "metadata": {},
   "outputs": [
    {
     "name": "stdout",
     "output_type": "stream",
     "text": [
      "Metrics for ZeroR model:\n",
      "Accuracy on training data: 0.5\n",
      "F1-score on training data: 0.0\n",
      "Accuracy on validation data: 0.8299319727891157\n",
      "F1-score on validation data: 0.0\n",
      "Accuracy on test data: 0.8673469387755102\n",
      "F1-score on test data: 0.0\n"
     ]
    }
   ],
   "source": [
    "majority_class = y_train['Attrition'].value_counts().idxmax()\n",
    "\n",
    "# Create and fit the ZeroR model\n",
    "zeroR_model = DummyClassifier(strategy='constant', constant=majority_class)\n",
    "zeroR_model.fit(x_train_smotetomek, y_train_smotetomek)\n",
    "\n",
    "# Predict using the ZeroR model\n",
    "y_pred_train = zeroR_model.predict(x_train_smotetomek)\n",
    "y_pred_val = zeroR_model.predict(x_val)\n",
    "y_pred_test = zeroR_model.predict(x_test)\n",
    "\n",
    "# Evaluate the performance of ZeroR\n",
    "accuracy_train = accuracy_score(y_train_smotetomek, y_pred_train)\n",
    "accuracy_val = accuracy_score(y_val, y_pred_val)\n",
    "accuracy_test = accuracy_score(y_test, y_pred_test)\n",
    "\n",
    "f1_train = f1_score(y_train_smotetomek, y_pred_train, average='binary')\n",
    "f1_val = f1_score(y_val, y_pred_val, average='binary')\n",
    "f1_test = f1_score(y_test, y_pred_test, average='binary')\n",
    "\n",
    "print(\"Metrics for ZeroR model:\")\n",
    "print(\"Accuracy on training data:\", accuracy_train)\n",
    "print(\"F1-score on training data:\", f1_train)\n",
    "print(\"Accuracy on validation data:\", accuracy_val)\n",
    "print(\"F1-score on validation data:\", f1_val)\n",
    "print(\"Accuracy on test data:\", accuracy_test)\n",
    "print(\"F1-score on test data:\", f1_test)"
   ]
  },
  {
   "cell_type": "markdown",
   "metadata": {},
   "source": [
    "RandomUnderSampler"
   ]
  },
  {
   "cell_type": "code",
   "execution_count": 12,
   "metadata": {},
   "outputs": [
    {
     "name": "stdout",
     "output_type": "stream",
     "text": [
      "Metrics for ZeroR model:\n",
      "Accuracy on training data: 0.5\n",
      "F1-score on training data: 0.0\n",
      "Accuracy on validation data: 0.8299319727891157\n",
      "F1-score on validation data: 0.0\n",
      "Accuracy on test data: 0.8673469387755102\n",
      "F1-score on test data: 0.0\n"
     ]
    }
   ],
   "source": [
    "majority_class = y_train['Attrition'].value_counts().idxmax()\n",
    "\n",
    "# Create and fit the ZeroR model\n",
    "zeroR_model = DummyClassifier(strategy='constant', constant=majority_class)\n",
    "zeroR_model.fit(x_train_rur, y_train_rur)\n",
    "\n",
    "# Predict using the ZeroR model\n",
    "y_pred_train = zeroR_model.predict(x_train_rur)\n",
    "y_pred_val = zeroR_model.predict(x_val)\n",
    "y_pred_test = zeroR_model.predict(x_test)\n",
    "\n",
    "# Evaluate the performance of ZeroR\n",
    "accuracy_train = accuracy_score(y_train_rur, y_pred_train)\n",
    "accuracy_val = accuracy_score(y_val, y_pred_val)\n",
    "accuracy_test = accuracy_score(y_test, y_pred_test)\n",
    "\n",
    "f1_train = f1_score(y_train_rur, y_pred_train, average='binary')\n",
    "f1_val = f1_score(y_val, y_pred_val, average='binary')\n",
    "f1_test = f1_score(y_test, y_pred_test, average='binary')\n",
    "\n",
    "print(\"Metrics for ZeroR model:\")\n",
    "print(\"Accuracy on training data:\", accuracy_train)\n",
    "print(\"F1-score on training data:\", f1_train)\n",
    "print(\"Accuracy on validation data:\", accuracy_val)\n",
    "print(\"F1-score on validation data:\", f1_val)\n",
    "print(\"Accuracy on test data:\", accuracy_test)\n",
    "print(\"F1-score on test data:\", f1_test)"
   ]
  }
 ],
 "metadata": {
  "kernelspec": {
   "display_name": "Python (geospatial)",
   "language": "python",
   "name": "geospatial"
  },
  "language_info": {
   "codemirror_mode": {
    "name": "ipython",
    "version": 3
   },
   "file_extension": ".py",
   "mimetype": "text/x-python",
   "name": "python",
   "nbconvert_exporter": "python",
   "pygments_lexer": "ipython3",
   "version": "3.8.18"
  }
 },
 "nbformat": 4,
 "nbformat_minor": 2
}
