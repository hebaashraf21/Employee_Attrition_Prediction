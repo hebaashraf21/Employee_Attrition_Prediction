{
 "cells": [
  {
   "cell_type": "code",
   "execution_count": 21,
   "metadata": {},
   "outputs": [],
   "source": [
    "#!pip install lightgbm\n",
    "import pandas as pd\n",
    "import os\n",
    "from sklearn.model_selection import KFold\n",
    "import lightgbm as lgb\n",
    "from sklearn.metrics import accuracy_score, f1_score, precision_score, recall_score\n",
    "import time\n",
    "#!pip install imblearn\n",
    "from imblearn.over_sampling import RandomOverSampler, SMOTE\n",
    "from imblearn.under_sampling import RandomUnderSampler"
   ]
  },
  {
   "cell_type": "markdown",
   "metadata": {},
   "source": [
    "**Loading The Data**"
   ]
  },
  {
   "cell_type": "code",
   "execution_count": 4,
   "metadata": {},
   "outputs": [],
   "source": [
    "current_dir = os.getcwd() \n",
    "relative_path = os.path.join('..', '..','data', 'train.csv')\n",
    "train_data = pd.read_csv(os.path.join(current_dir, relative_path))"
   ]
  },
  {
   "cell_type": "code",
   "execution_count": 5,
   "metadata": {},
   "outputs": [],
   "source": [
    "relative_path = os.path.join('..', '..','data', 'test.csv')\n",
    "test_data = pd.read_csv(os.path.join(current_dir, relative_path))"
   ]
  },
  {
   "cell_type": "code",
   "execution_count": 6,
   "metadata": {},
   "outputs": [],
   "source": [
    "x_train = train_data.drop([\"Attrition\"], axis = 1)\n",
    "y_train = train_data[\"Attrition\"]\n",
    "\n",
    "x_test = test_data.drop([\"Attrition\"], axis = 1)\n",
    "y_test = test_data[\"Attrition\"]\n",
    "\n",
    "k_fold = KFold(n_splits=10, shuffle=True, random_state=42)"
   ]
  },
  {
   "cell_type": "code",
   "execution_count": 7,
   "metadata": {},
   "outputs": [],
   "source": [
    "# Calculate the ratio of negative samples to positive samples\n",
    "ratio = len(y_train[y_train == 0]) / len(y_train[y_train == 1])"
   ]
  },
  {
   "cell_type": "markdown",
   "metadata": {},
   "source": [
    "Random oversampling"
   ]
  },
  {
   "cell_type": "code",
   "execution_count": 29,
   "metadata": {},
   "outputs": [],
   "source": [
    "# Random oversampling\n",
    "oversampler = RandomOverSampler(random_state=42)\n",
    "x_train_resampled, y_train_resampled = oversampler.fit_resample(x_train, y_train)"
   ]
  },
  {
   "cell_type": "code",
   "execution_count": 30,
   "metadata": {},
   "outputs": [
    {
     "name": "stdout",
     "output_type": "stream",
     "text": [
      "Average Accuracy: 0.9666666666666668\n",
      "Average F1 Score: 0.9666811571475332\n",
      "Average Precision: 0.9368950564310605\n",
      "Average Recall: 1.0\n",
      "Average Training Time (seconds): 0.27126297950744627\n"
     ]
    }
   ],
   "source": [
    "# Define LightGBM parameters\n",
    "params = {\n",
    "    'learning_rate': 0.1,\n",
    "    'n_estimators': 100,\n",
    "    'max_depth': 6,\n",
    "    'num_leaves': 65,  # Set num_leaves explicitly\n",
    "    'min_child_samples': 5,\n",
    "    'subsample': 0.8,\n",
    "    'objective': 'binary',\n",
    "    'metric': 'binary_error',\n",
    "    'random_state': 42,\n",
    "    'force_col_wise': True,\n",
    "    'verbose': -1\n",
    "}\n",
    "\n",
    "\n",
    "# Initialize lists to store evaluation metrics\n",
    "accuracies = []\n",
    "precisions = []\n",
    "recalls = []\n",
    "f1_scores = []\n",
    "training_times = []\n",
    "\n",
    "# Train the model using k-fold cross-validation\n",
    "for train_index, val_index in k_fold.split(x_train_resampled):\n",
    "    X_train_fold, X_val_fold = x_train_resampled.iloc[train_index], x_train_resampled.iloc[val_index]\n",
    "    y_train_fold, y_val_fold = y_train_resampled.iloc[train_index], y_train_resampled.iloc[val_index]\n",
    "\n",
    "    # Record start time\n",
    "    start_time = time.time()\n",
    "\n",
    "    # Initialize LightGBM classifier\n",
    "    lgb_model = lgb.LGBMClassifier(**params)\n",
    "\n",
    "    # Fit the model\n",
    "    lgb_model.fit(X_train_fold, y_train_fold,\n",
    "                  eval_set=[(X_val_fold, y_val_fold)])\n",
    "\n",
    "    # Record end time\n",
    "    end_time = time.time()\n",
    "\n",
    "    # Calculate training time\n",
    "    training_time = end_time - start_time\n",
    "    training_times.append(training_time)\n",
    "\n",
    "    # Predict on validation set\n",
    "    y_pred = lgb_model.predict(X_val_fold)\n",
    "\n",
    "    # Calculate metrics\n",
    "    accuracy = accuracy_score(y_val_fold, y_pred)\n",
    "    precision = precision_score(y_val_fold, y_pred)\n",
    "    recall = recall_score(y_val_fold, y_pred)\n",
    "    f1 = f1_score(y_val_fold, y_pred)\n",
    "\n",
    "    accuracies.append(accuracy)\n",
    "    precisions.append(precision)\n",
    "    recalls.append(recall)\n",
    "    f1_scores.append(f1)\n",
    "\n",
    "# Calculate and print average metrics\n",
    "avg_accuracy = sum(accuracies) / len(accuracies)\n",
    "avg_precision = sum(precisions) / len(precisions)\n",
    "avg_recall = sum(recalls) / len(recalls)\n",
    "avg_f1_score = sum(f1_scores) / len(f1_scores)\n",
    "\n",
    "# Calculate average training time\n",
    "avg_training_time = sum(training_times) / len(training_times)\n",
    "print(\"Average Accuracy:\", avg_accuracy)\n",
    "print(\"Average F1 Score:\", avg_f1_score)\n",
    "print(\"Average Precision:\", avg_precision)\n",
    "print(\"Average Recall:\", avg_recall)\n",
    "print(\"Average Training Time (seconds):\", avg_training_time)\n"
   ]
  },
  {
   "cell_type": "markdown",
   "metadata": {},
   "source": [
    "SMOTE"
   ]
  },
  {
   "cell_type": "code",
   "execution_count": 31,
   "metadata": {},
   "outputs": [],
   "source": [
    "# SMOTE (Synthetic Minority Over-sampling Technique)\n",
    "smote = SMOTE(random_state=42)\n",
    "x_train_resampled, y_train_resampled = smote.fit_resample(x_train, y_train)"
   ]
  },
  {
   "cell_type": "code",
   "execution_count": 32,
   "metadata": {},
   "outputs": [
    {
     "name": "stdout",
     "output_type": "stream",
     "text": [
      "Average Accuracy: 0.9294117647058824\n",
      "Average F1 Score: 0.9259115588613753\n",
      "Average Precision: 0.9193981621202386\n",
      "Average Recall: 0.9370720116132409\n",
      "Average Training Time (seconds): 0.3241485595703125\n"
     ]
    }
   ],
   "source": [
    "# Define LightGBM parameters\n",
    "params = {\n",
    "    'learning_rate': 0.1,\n",
    "    'n_estimators': 100,\n",
    "    'max_depth': 6,\n",
    "    'num_leaves': 65,  # Set num_leaves explicitly\n",
    "    'min_child_samples': 5,\n",
    "    'subsample': 0.8,\n",
    "    'objective': 'binary',\n",
    "    'metric': 'binary_error',\n",
    "    'random_state': 42,\n",
    "    'force_col_wise': True,\n",
    "    'verbose': -1\n",
    "}\n",
    "\n",
    "\n",
    "# Initialize lists to store evaluation metrics\n",
    "accuracies = []\n",
    "precisions = []\n",
    "recalls = []\n",
    "f1_scores = []\n",
    "training_times = []\n",
    "\n",
    "# Train the model using k-fold cross-validation\n",
    "for train_index, val_index in k_fold.split(x_train_resampled):\n",
    "    X_train_fold, X_val_fold = x_train_resampled.iloc[train_index], x_train_resampled.iloc[val_index]\n",
    "    y_train_fold, y_val_fold = y_train_resampled.iloc[train_index], y_train_resampled.iloc[val_index]\n",
    "\n",
    "    # Record start time\n",
    "    start_time = time.time()\n",
    "\n",
    "    # Initialize LightGBM classifier\n",
    "    lgb_model = lgb.LGBMClassifier(**params)\n",
    "\n",
    "    # Fit the model\n",
    "    lgb_model.fit(X_train_fold, y_train_fold,\n",
    "                  eval_set=[(X_val_fold, y_val_fold)])\n",
    "\n",
    "    # Record end time\n",
    "    end_time = time.time()\n",
    "\n",
    "    # Calculate training time\n",
    "    training_time = end_time - start_time\n",
    "    training_times.append(training_time)\n",
    "\n",
    "    # Predict on validation set\n",
    "    y_pred = lgb_model.predict(X_val_fold)\n",
    "\n",
    "    # Calculate metrics\n",
    "    accuracy = accuracy_score(y_val_fold, y_pred)\n",
    "    precision = precision_score(y_val_fold, y_pred)\n",
    "    recall = recall_score(y_val_fold, y_pred)\n",
    "    f1 = f1_score(y_val_fold, y_pred)\n",
    "\n",
    "    accuracies.append(accuracy)\n",
    "    precisions.append(precision)\n",
    "    recalls.append(recall)\n",
    "    f1_scores.append(f1)\n",
    "\n",
    "# Calculate and print average metrics\n",
    "avg_accuracy = sum(accuracies) / len(accuracies)\n",
    "avg_precision = sum(precisions) / len(precisions)\n",
    "avg_recall = sum(recalls) / len(recalls)\n",
    "avg_f1_score = sum(f1_scores) / len(f1_scores)\n",
    "\n",
    "# Calculate average training time\n",
    "avg_training_time = sum(training_times) / len(training_times)\n",
    "print(\"Average Accuracy:\", avg_accuracy)\n",
    "print(\"Average F1 Score:\", avg_f1_score)\n",
    "print(\"Average Precision:\", avg_precision)\n",
    "print(\"Average Recall:\", avg_recall)\n",
    "print(\"Average Training Time (seconds):\", avg_training_time)\n"
   ]
  },
  {
   "cell_type": "markdown",
   "metadata": {},
   "source": [
    "Random undersampling"
   ]
  },
  {
   "cell_type": "code",
   "execution_count": 33,
   "metadata": {},
   "outputs": [],
   "source": [
    "# Random undersampling\n",
    "undersampler = RandomUnderSampler(random_state=42)\n",
    "x_train_resampled, y_train_resampled = undersampler.fit_resample(x_train, y_train)"
   ]
  },
  {
   "cell_type": "code",
   "execution_count": 34,
   "metadata": {},
   "outputs": [
    {
     "name": "stdout",
     "output_type": "stream",
     "text": [
      "Average Accuracy: 0.6285714285714286\n",
      "Average F1 Score: 0.60005772005772\n",
      "Average Precision: 0.6449999999999999\n",
      "Average Recall: 0.635\n",
      "Average Training Time (seconds): 0.20353341102600098\n"
     ]
    }
   ],
   "source": [
    "# Define LightGBM parameters\n",
    "params = {\n",
    "    'learning_rate': 0.1,\n",
    "    'n_estimators': 100,\n",
    "    'max_depth': 6,\n",
    "    'num_leaves': 65,  # Set num_leaves explicitly\n",
    "    'min_child_samples': 5,\n",
    "    'subsample': 0.8,\n",
    "    'objective': 'binary',\n",
    "    'metric': 'binary_error',\n",
    "    'random_state': 42,\n",
    "    'force_col_wise': True,\n",
    "    'verbose': -1\n",
    "}\n",
    "\n",
    "\n",
    "# Initialize lists to store evaluation metrics\n",
    "accuracies = []\n",
    "precisions = []\n",
    "recalls = []\n",
    "f1_scores = []\n",
    "training_times = []\n",
    "\n",
    "# Train the model using k-fold cross-validation\n",
    "for train_index, val_index in k_fold.split(x_train_resampled):\n",
    "    X_train_fold, X_val_fold = x_train_resampled.iloc[train_index], x_train_resampled.iloc[val_index]\n",
    "    y_train_fold, y_val_fold = y_train_resampled.iloc[train_index], y_train_resampled.iloc[val_index]\n",
    "\n",
    "    # Record start time\n",
    "    start_time = time.time()\n",
    "\n",
    "    # Initialize LightGBM classifier\n",
    "    lgb_model = lgb.LGBMClassifier(**params)\n",
    "\n",
    "    # Fit the model\n",
    "    lgb_model.fit(X_train_fold, y_train_fold,\n",
    "                  eval_set=[(X_val_fold, y_val_fold)])\n",
    "\n",
    "    # Record end time\n",
    "    end_time = time.time()\n",
    "\n",
    "    # Calculate training time\n",
    "    training_time = end_time - start_time\n",
    "    training_times.append(training_time)\n",
    "\n",
    "    # Predict on validation set\n",
    "    y_pred = lgb_model.predict(X_val_fold)\n",
    "\n",
    "    # Calculate metrics\n",
    "    accuracy = accuracy_score(y_val_fold, y_pred)\n",
    "    precision = precision_score(y_val_fold, y_pred)\n",
    "    recall = recall_score(y_val_fold, y_pred)\n",
    "    f1 = f1_score(y_val_fold, y_pred)\n",
    "\n",
    "    accuracies.append(accuracy)\n",
    "    precisions.append(precision)\n",
    "    recalls.append(recall)\n",
    "    f1_scores.append(f1)\n",
    "\n",
    "# Calculate and print average metrics\n",
    "avg_accuracy = sum(accuracies) / len(accuracies)\n",
    "avg_precision = sum(precisions) / len(precisions)\n",
    "avg_recall = sum(recalls) / len(recalls)\n",
    "avg_f1_score = sum(f1_scores) / len(f1_scores)\n",
    "\n",
    "# Calculate average training time\n",
    "avg_training_time = sum(training_times) / len(training_times)\n",
    "print(\"Average Accuracy:\", avg_accuracy)\n",
    "print(\"Average F1 Score:\", avg_f1_score)\n",
    "print(\"Average Precision:\", avg_precision)\n",
    "print(\"Average Recall:\", avg_recall)\n",
    "print(\"Average Training Time (seconds):\", avg_training_time)\n"
   ]
  }
 ],
 "metadata": {
  "kernelspec": {
   "display_name": "Python 3",
   "language": "python",
   "name": "python3"
  },
  "language_info": {
   "codemirror_mode": {
    "name": "ipython",
    "version": 3
   },
   "file_extension": ".py",
   "mimetype": "text/x-python",
   "name": "python",
   "nbconvert_exporter": "python",
   "pygments_lexer": "ipython3",
   "version": "3.8.10"
  }
 },
 "nbformat": 4,
 "nbformat_minor": 2
}
